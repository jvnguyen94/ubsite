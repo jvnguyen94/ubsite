{
 "cells": [
  {
   "cell_type": "code",
   "execution_count": 30,
   "metadata": {},
   "outputs": [],
   "source": [
    "# %%\n",
    "######################################################################################\n",
    "# Libraries\n",
    "######################################################################################\n",
    "# print(\"Import Libraries & Set up directory\")\n",
    "import numpy as np\n",
    "import pandas as pd\n",
    "from Bio import SeqIO\n",
    "import re\n",
    "import os\n",
    "from collections import defaultdict\n",
    "from collections import Counter\n",
    "import matplotlib.pyplot as plt\n",
    "\n",
    "folder_path = \"/Users/nguyjust/Library/CloudStorage/OneDrive-OregonHealth&ScienceUniversity/ubsite/\""
   ]
  },
  {
   "cell_type": "markdown",
   "metadata": {},
   "source": [
    "### UniProt Reference File\n",
    "\n",
    "Downloaded 8/29/2023"
   ]
  },
  {
   "cell_type": "code",
   "execution_count": 2,
   "metadata": {},
   "outputs": [
    {
     "data": {
      "text/plain": [
       "73726"
      ]
     },
     "execution_count": 2,
     "metadata": {},
     "output_type": "execute_result"
    }
   ],
   "source": [
    "# %%\n",
    "######################################################################################\n",
    "# Read in UniProt Reference File\n",
    "######################################################################################\n",
    "# Data read in\n",
    "fasta_seqs = list(SeqIO.parse(open(folder_path + 'raw_data/idmapping_2023_08_29.fasta'), 'fasta'))\n",
    "\n",
    "#print(\"Read in fasta file\")\n",
    "\n",
    "## Clean fasta ID names for quicker query\n",
    "for ii in range(len(fasta_seqs)):\n",
    "    fasta_seqs[ii].id = fasta_seqs[ii].id.split(\"|\")[1] \n",
    "    \n",
    "fasta_seq_df = pd.DataFrame(columns = ['id', 'seq'])\n",
    "\n",
    "for ii in range(len(fasta_seqs)):\n",
    "    fasta_seq_df.loc[len(fasta_seq_df.index)] = [fasta_seqs[ii].id, fasta_seqs[ii].seq]\n",
    "    #fasta_seq_df.append({'id': fasta_seqs[0].id, 'seq': fasta_seqs[0].seq}, ignore_index=True)\n",
    "\n",
    "fasta_seq_df['seq'] = fasta_seq_df['seq'].astype(str)\n",
    "\n"
   ]
  },
  {
   "cell_type": "code",
   "execution_count": 8,
   "metadata": {},
   "outputs": [
    {
     "name": "stdout",
     "output_type": "stream",
     "text": [
      "number of sequences: 73726\n",
      "FASTA original colummns: Index(['id', 'seq'], dtype='object')\n"
     ]
    }
   ],
   "source": [
    "print(f\"number of sequences: {len(fasta_seq_df)}\")\n",
    "\n",
    "print(f\"FASTA original colummns: {fasta_seq_df.columns}\")"
   ]
  },
  {
   "cell_type": "markdown",
   "metadata": {},
   "source": [
    "### PhosphoSitePlus \n",
    "\n",
    "Website: \n",
    "https://www.phosphosite.org/staticDownloadshttps://www.phosphosite.org/staticDownloads\n",
    "\n",
    "Downloaded: \n",
    "Ubiquitination_site_dataset.gz (2MB)\n",
    "\n",
    "Last Modified: \n",
    "Fri May 17 09:42:44 EDT 2024\n",
    "\n",
    "Date of Download: \n",
    "05/21/2024 09:58 PST"
   ]
  },
  {
   "cell_type": "code",
   "execution_count": 14,
   "metadata": {},
   "outputs": [
    {
     "name": "stdout",
     "output_type": "stream",
     "text": [
      "PSP original colummns: Index(['GENE', 'PROTEIN', 'ACC_ID', 'HU_CHR_LOC', 'MOD_RSD', 'SITE_GRP_ID',\n",
      "       'ORGANISM', 'MW_kD', 'DOMAIN', 'SITE_+/-7_AA', 'LT_LIT', 'MS_LIT',\n",
      "       'MS_CST', 'CST_CAT#', 'Ambiguous_Site'],\n",
      "      dtype='object')\n",
      "GENE                        YWHAB\n",
      "PROTEIN               14-3-3 beta\n",
      "ACC_ID                     P31946\n",
      "HU_CHR_LOC               20q13.12\n",
      "MOD_RSD                     K5-ub\n",
      "SITE_GRP_ID              41481400\n",
      "ORGANISM                    human\n",
      "MW_kD                       28.08\n",
      "DOMAIN                        NaN\n",
      "SITE_+/-7_AA      ___MtMDksELVQkA\n",
      "LT_LIT                        NaN\n",
      "MS_LIT                        4.0\n",
      "MS_CST                        NaN\n",
      "CST_CAT#                      NaN\n",
      "Ambiguous_Site                  0\n",
      "Name: 0, dtype: object\n"
     ]
    }
   ],
   "source": [
    "# %%\n",
    "######################################################################################\n",
    "# PhosphoSitePlus\n",
    "######################################################################################\n",
    "\n",
    "## Read in the PhosphoSite Dataset\n",
    "data_psp = pd.read_csv(folder_path + '/raw_data/PSP/Ubiquitination_site_dataset',\n",
    "                       sep=\"\\t\", low_memory=False, skiprows=[0, 1, 2])\n",
    "\n",
    "## Look at the columns to check file integrity\n",
    "print(f\"PSP original colummns: {data_psp.columns}\")\n",
    "\n",
    "## First row\n",
    "print(data_psp.iloc[0])"
   ]
  },
  {
   "cell_type": "code",
   "execution_count": 15,
   "metadata": {},
   "outputs": [
    {
     "data": {
      "text/html": [
       "<div>\n",
       "<style scoped>\n",
       "    .dataframe tbody tr th:only-of-type {\n",
       "        vertical-align: middle;\n",
       "    }\n",
       "\n",
       "    .dataframe tbody tr th {\n",
       "        vertical-align: top;\n",
       "    }\n",
       "\n",
       "    .dataframe thead th {\n",
       "        text-align: right;\n",
       "    }\n",
       "</style>\n",
       "<table border=\"1\" class=\"dataframe\">\n",
       "  <thead>\n",
       "    <tr style=\"text-align: right;\">\n",
       "      <th></th>\n",
       "      <th>PROTEIN</th>\n",
       "      <th>ACC_ID</th>\n",
       "      <th>ORGANISM</th>\n",
       "      <th>MOD_RSD</th>\n",
       "      <th>SITE_+/-7_AA</th>\n",
       "    </tr>\n",
       "  </thead>\n",
       "  <tbody>\n",
       "    <tr>\n",
       "      <th>0</th>\n",
       "      <td>14-3-3 beta</td>\n",
       "      <td>P31946</td>\n",
       "      <td>human</td>\n",
       "      <td>K5-ub</td>\n",
       "      <td>___MtMDksELVQkA</td>\n",
       "    </tr>\n",
       "    <tr>\n",
       "      <th>1</th>\n",
       "      <td>14-3-3 beta</td>\n",
       "      <td>P31946</td>\n",
       "      <td>human</td>\n",
       "      <td>K11-ub</td>\n",
       "      <td>DksELVQkAkLAEQA</td>\n",
       "    </tr>\n",
       "    <tr>\n",
       "      <th>2</th>\n",
       "      <td>14-3-3 beta</td>\n",
       "      <td>Q9CQV8</td>\n",
       "      <td>mouse</td>\n",
       "      <td>K11-ub</td>\n",
       "      <td>DksELVQkAkLAEQA</td>\n",
       "    </tr>\n",
       "    <tr>\n",
       "      <th>3</th>\n",
       "      <td>14-3-3 beta</td>\n",
       "      <td>P35213</td>\n",
       "      <td>rat</td>\n",
       "      <td>K11-ub</td>\n",
       "      <td>DkSELVQkAkLAEQA</td>\n",
       "    </tr>\n",
       "    <tr>\n",
       "      <th>4</th>\n",
       "      <td>14-3-3 beta</td>\n",
       "      <td>P31946</td>\n",
       "      <td>human</td>\n",
       "      <td>K13-ub</td>\n",
       "      <td>sELVQkAkLAEQAER</td>\n",
       "    </tr>\n",
       "  </tbody>\n",
       "</table>\n",
       "</div>"
      ],
      "text/plain": [
       "       PROTEIN  ACC_ID ORGANISM MOD_RSD     SITE_+/-7_AA\n",
       "0  14-3-3 beta  P31946    human   K5-ub  ___MtMDksELVQkA\n",
       "1  14-3-3 beta  P31946    human  K11-ub  DksELVQkAkLAEQA\n",
       "2  14-3-3 beta  Q9CQV8    mouse  K11-ub  DksELVQkAkLAEQA\n",
       "3  14-3-3 beta  P35213      rat  K11-ub  DkSELVQkAkLAEQA\n",
       "4  14-3-3 beta  P31946    human  K13-ub  sELVQkAkLAEQAER"
      ]
     },
     "execution_count": 15,
     "metadata": {},
     "output_type": "execute_result"
    }
   ],
   "source": [
    "## Data with selected data columns\n",
    "## PROTEIN, ACC_ID, ORGANISM, MOD_RSD, SITE_+/-7_AA\n",
    "data_sel_psp = data_psp[['PROTEIN', 'ACC_ID',\n",
    "                         'ORGANISM', 'MOD_RSD', 'SITE_+/-7_AA']].copy()\n",
    "\n",
    "## Check that correct columns is copied\n",
    "data_sel_psp.head()"
   ]
  },
  {
   "cell_type": "code",
   "execution_count": 18,
   "metadata": {},
   "outputs": [
    {
     "data": {
      "text/html": [
       "<div>\n",
       "<style scoped>\n",
       "    .dataframe tbody tr th:only-of-type {\n",
       "        vertical-align: middle;\n",
       "    }\n",
       "\n",
       "    .dataframe tbody tr th {\n",
       "        vertical-align: top;\n",
       "    }\n",
       "\n",
       "    .dataframe thead th {\n",
       "        text-align: right;\n",
       "    }\n",
       "</style>\n",
       "<table border=\"1\" class=\"dataframe\">\n",
       "  <thead>\n",
       "    <tr style=\"text-align: right;\">\n",
       "      <th></th>\n",
       "      <th>PROTEIN</th>\n",
       "      <th>ACC_ID</th>\n",
       "      <th>ORGANISM</th>\n",
       "      <th>SITE_+/-7_AA</th>\n",
       "      <th>ub_mod_loc</th>\n",
       "    </tr>\n",
       "  </thead>\n",
       "  <tbody>\n",
       "    <tr>\n",
       "      <th>0</th>\n",
       "      <td>14-3-3 beta</td>\n",
       "      <td>P31946</td>\n",
       "      <td>human</td>\n",
       "      <td>___MtMDksELVQkA</td>\n",
       "      <td>5</td>\n",
       "    </tr>\n",
       "    <tr>\n",
       "      <th>1</th>\n",
       "      <td>14-3-3 beta</td>\n",
       "      <td>P31946</td>\n",
       "      <td>human</td>\n",
       "      <td>DksELVQkAkLAEQA</td>\n",
       "      <td>11</td>\n",
       "    </tr>\n",
       "    <tr>\n",
       "      <th>2</th>\n",
       "      <td>14-3-3 beta</td>\n",
       "      <td>Q9CQV8</td>\n",
       "      <td>mouse</td>\n",
       "      <td>DksELVQkAkLAEQA</td>\n",
       "      <td>11</td>\n",
       "    </tr>\n",
       "    <tr>\n",
       "      <th>3</th>\n",
       "      <td>14-3-3 beta</td>\n",
       "      <td>P35213</td>\n",
       "      <td>rat</td>\n",
       "      <td>DkSELVQkAkLAEQA</td>\n",
       "      <td>11</td>\n",
       "    </tr>\n",
       "    <tr>\n",
       "      <th>4</th>\n",
       "      <td>14-3-3 beta</td>\n",
       "      <td>P31946</td>\n",
       "      <td>human</td>\n",
       "      <td>sELVQkAkLAEQAER</td>\n",
       "      <td>13</td>\n",
       "    </tr>\n",
       "  </tbody>\n",
       "</table>\n",
       "</div>"
      ],
      "text/plain": [
       "       PROTEIN  ACC_ID ORGANISM     SITE_+/-7_AA ub_mod_loc\n",
       "0  14-3-3 beta  P31946    human  ___MtMDksELVQkA          5\n",
       "1  14-3-3 beta  P31946    human  DksELVQkAkLAEQA         11\n",
       "2  14-3-3 beta  Q9CQV8    mouse  DksELVQkAkLAEQA         11\n",
       "3  14-3-3 beta  P35213      rat  DkSELVQkAkLAEQA         11\n",
       "4  14-3-3 beta  P31946    human  sELVQkAkLAEQAER         13"
      ]
     },
     "execution_count": 18,
     "metadata": {},
     "output_type": "execute_result"
    }
   ],
   "source": [
    "## Clean the Ub location column\n",
    "## ie: originally Kxx-ub, but just need to capture the location number for the modified site\n",
    "data_sel_psp['ub_mod_loc'] = data_sel_psp.MOD_RSD.str.extract('(\\d+)')\n",
    "## Drop the old modified site column\n",
    "data_sel_psp = data_sel_psp.drop(['MOD_RSD'], axis=1)\n",
    "\n",
    "## Check that only numbers were captured in the location\n",
    "data_sel_psp.head()"
   ]
  },
  {
   "cell_type": "code",
   "execution_count": 29,
   "metadata": {},
   "outputs": [
    {
     "data": {
      "text/html": [
       "<div>\n",
       "<style scoped>\n",
       "    .dataframe tbody tr th:only-of-type {\n",
       "        vertical-align: middle;\n",
       "    }\n",
       "\n",
       "    .dataframe tbody tr th {\n",
       "        vertical-align: top;\n",
       "    }\n",
       "\n",
       "    .dataframe thead th {\n",
       "        text-align: right;\n",
       "    }\n",
       "</style>\n",
       "<table border=\"1\" class=\"dataframe\">\n",
       "  <thead>\n",
       "    <tr style=\"text-align: right;\">\n",
       "      <th></th>\n",
       "      <th>protein</th>\n",
       "      <th>uniprot_id</th>\n",
       "      <th>organism</th>\n",
       "      <th>sequence</th>\n",
       "      <th>ub_mod_loc</th>\n",
       "    </tr>\n",
       "  </thead>\n",
       "  <tbody>\n",
       "    <tr>\n",
       "      <th>0</th>\n",
       "      <td>14-3-3 beta</td>\n",
       "      <td>P31946</td>\n",
       "      <td>human</td>\n",
       "      <td>___MtMDksELVQkA</td>\n",
       "      <td>5</td>\n",
       "    </tr>\n",
       "    <tr>\n",
       "      <th>1</th>\n",
       "      <td>14-3-3 beta</td>\n",
       "      <td>P31946</td>\n",
       "      <td>human</td>\n",
       "      <td>DksELVQkAkLAEQA</td>\n",
       "      <td>11</td>\n",
       "    </tr>\n",
       "    <tr>\n",
       "      <th>2</th>\n",
       "      <td>14-3-3 beta</td>\n",
       "      <td>Q9CQV8</td>\n",
       "      <td>mouse</td>\n",
       "      <td>DksELVQkAkLAEQA</td>\n",
       "      <td>11</td>\n",
       "    </tr>\n",
       "    <tr>\n",
       "      <th>3</th>\n",
       "      <td>14-3-3 beta</td>\n",
       "      <td>P35213</td>\n",
       "      <td>rat</td>\n",
       "      <td>DkSELVQkAkLAEQA</td>\n",
       "      <td>11</td>\n",
       "    </tr>\n",
       "    <tr>\n",
       "      <th>4</th>\n",
       "      <td>14-3-3 beta</td>\n",
       "      <td>P31946</td>\n",
       "      <td>human</td>\n",
       "      <td>sELVQkAkLAEQAER</td>\n",
       "      <td>13</td>\n",
       "    </tr>\n",
       "  </tbody>\n",
       "</table>\n",
       "</div>"
      ],
      "text/plain": [
       "       protein uniprot_id organism         sequence ub_mod_loc\n",
       "0  14-3-3 beta     P31946    human  ___MtMDksELVQkA          5\n",
       "1  14-3-3 beta     P31946    human  DksELVQkAkLAEQA         11\n",
       "2  14-3-3 beta     Q9CQV8    mouse  DksELVQkAkLAEQA         11\n",
       "3  14-3-3 beta     P35213      rat  DkSELVQkAkLAEQA         11\n",
       "4  14-3-3 beta     P31946    human  sELVQkAkLAEQAER         13"
      ]
     },
     "execution_count": 29,
     "metadata": {},
     "output_type": "execute_result"
    }
   ],
   "source": [
    "## Renaming column names\n",
    "data_sel_psp = data_sel_psp.rename(columns={\"PROTEIN\": \"protein\",\n",
    "                           \"ACC_ID\": \"uniprot_id\", \n",
    "                           \"ORGANISM\": \"organism\",\n",
    "                           \"SITE_+/-7_AA\" : \"sequence\"})\n",
    "\n",
    "data_sel_psp.head()"
   ]
  },
  {
   "cell_type": "code",
   "execution_count": 21,
   "metadata": {},
   "outputs": [
    {
     "name": "stdout",
     "output_type": "stream",
     "text": [
      "{'mouse', 'chicken', 'SARSCoV2', 'cow', 'SARSCoV1', 'duck', 'pig', 'human', 'rat'}\n",
      "Number of unique species in PSP: 9\n"
     ]
    }
   ],
   "source": [
    "## Look at the unique species\n",
    "print(set(data_sel_psp['organism']))\n",
    "\n",
    "## Number of unique species\n",
    "print(f\"Number of unique species in PSP: {len(set(data_sel_psp['organism']))}\")"
   ]
  },
  {
   "cell_type": "markdown",
   "metadata": {},
   "source": [
    "** trying to clean up species name, but can do later\n",
    "mouse - Mus musculus\n",
    "\n",
    "chicken - Gallus gallus\n",
    "\n",
    "SARSCoV2 - \n",
    "\n",
    "cow - Bos taurus\n",
    "\n",
    "SARSCoV1 - \n",
    "\n",
    "duck - Anas platyrhynchos\n",
    "\n",
    "pig - Sus scrofa\n",
    "\n",
    "human - Homo sapiens\n",
    "\n",
    "rat - Rattus norvegicus"
   ]
  },
  {
   "cell_type": "code",
   "execution_count": 48,
   "metadata": {},
   "outputs": [
    {
     "name": "stdout",
     "output_type": "stream",
     "text": [
      "Total PSP observations: 126329\n",
      "Total unique PSP proteins: 19917\n"
     ]
    }
   ],
   "source": [
    "len_psp = len(data_sel_psp['uniprot_id'])\n",
    "psp_uniprot_unique = list(set(data_sel_psp[\"uniprot_id\"]))\n",
    "\n",
    "print(f'Total PSP observations: {len_psp}')\n",
    "print(f\"Total unique PSP proteins: {len(psp_uniprot_unique)}\")"
   ]
  },
  {
   "cell_type": "code",
   "execution_count": 52,
   "metadata": {},
   "outputs": [],
   "source": [
    "## Save UniProt IDs to file to download full information from UniProt\n",
    "np.savetxt(folder_path + \"data/psp_uniprot_ids.tsv\",\n",
    "           psp_uniprot_unique,\n",
    "           delimiter=\"\\t\",\n",
    "           fmt='% s')"
   ]
  },
  {
   "cell_type": "code",
   "execution_count": 31,
   "metadata": {},
   "outputs": [
    {
     "ename": "KeyError",
     "evalue": "'SITE_+/-7_AA'",
     "output_type": "error",
     "traceback": [
      "\u001b[0;31m---------------------------------------------------------------------------\u001b[0m",
      "\u001b[0;31mKeyError\u001b[0m                                  Traceback (most recent call last)",
      "File \u001b[0;32m~/opt/anaconda3/envs/py9/lib/python3.9/site-packages/pandas/core/indexes/base.py:3802\u001b[0m, in \u001b[0;36mIndex.get_loc\u001b[0;34m(self, key, method, tolerance)\u001b[0m\n\u001b[1;32m   3801\u001b[0m \u001b[38;5;28;01mtry\u001b[39;00m:\n\u001b[0;32m-> 3802\u001b[0m     \u001b[38;5;28;01mreturn\u001b[39;00m \u001b[38;5;28;43mself\u001b[39;49m\u001b[38;5;241;43m.\u001b[39;49m\u001b[43m_engine\u001b[49m\u001b[38;5;241;43m.\u001b[39;49m\u001b[43mget_loc\u001b[49m\u001b[43m(\u001b[49m\u001b[43mcasted_key\u001b[49m\u001b[43m)\u001b[49m\n\u001b[1;32m   3803\u001b[0m \u001b[38;5;28;01mexcept\u001b[39;00m \u001b[38;5;167;01mKeyError\u001b[39;00m \u001b[38;5;28;01mas\u001b[39;00m err:\n",
      "File \u001b[0;32m~/opt/anaconda3/envs/py9/lib/python3.9/site-packages/pandas/_libs/index.pyx:138\u001b[0m, in \u001b[0;36mpandas._libs.index.IndexEngine.get_loc\u001b[0;34m()\u001b[0m\n",
      "File \u001b[0;32m~/opt/anaconda3/envs/py9/lib/python3.9/site-packages/pandas/_libs/index.pyx:165\u001b[0m, in \u001b[0;36mpandas._libs.index.IndexEngine.get_loc\u001b[0;34m()\u001b[0m\n",
      "File \u001b[0;32mpandas/_libs/hashtable_class_helper.pxi:5745\u001b[0m, in \u001b[0;36mpandas._libs.hashtable.PyObjectHashTable.get_item\u001b[0;34m()\u001b[0m\n",
      "File \u001b[0;32mpandas/_libs/hashtable_class_helper.pxi:5753\u001b[0m, in \u001b[0;36mpandas._libs.hashtable.PyObjectHashTable.get_item\u001b[0;34m()\u001b[0m\n",
      "\u001b[0;31mKeyError\u001b[0m: 'SITE_+/-7_AA'",
      "\nThe above exception was the direct cause of the following exception:\n",
      "\u001b[0;31mKeyError\u001b[0m                                  Traceback (most recent call last)",
      "Cell \u001b[0;32mIn[31], line 2\u001b[0m\n\u001b[1;32m      1\u001b[0m \u001b[38;5;28;01mfor\u001b[39;00m ii \u001b[38;5;129;01min\u001b[39;00m \u001b[38;5;28mrange\u001b[39m(\u001b[38;5;28mlen\u001b[39m(data_sel_psp)):\n\u001b[0;32m----> 2\u001b[0m     \u001b[38;5;28;01mif\u001b[39;00m \u001b[43mdata_sel_psp\u001b[49m\u001b[43m[\u001b[49m\u001b[38;5;124;43m'\u001b[39;49m\u001b[38;5;124;43mSITE_+/-7_AA\u001b[39;49m\u001b[38;5;124;43m'\u001b[39;49m\u001b[43m]\u001b[49m[ii][\u001b[38;5;241m7\u001b[39m] \u001b[38;5;241m==\u001b[39m \u001b[38;5;124m\"\u001b[39m\u001b[38;5;124mk\u001b[39m\u001b[38;5;124m\"\u001b[39m:\n\u001b[1;32m      3\u001b[0m         \u001b[38;5;66;03m# data_sel_psp_k = pd.concat([data_sel_psp_k, data_sel_psp.iloc[ii]])\u001b[39;00m\n\u001b[1;32m      4\u001b[0m         \u001b[38;5;28;01mpass\u001b[39;00m\n\u001b[1;32m      5\u001b[0m     \u001b[38;5;28;01melse\u001b[39;00m:\n",
      "File \u001b[0;32m~/opt/anaconda3/envs/py9/lib/python3.9/site-packages/pandas/core/frame.py:3807\u001b[0m, in \u001b[0;36mDataFrame.__getitem__\u001b[0;34m(self, key)\u001b[0m\n\u001b[1;32m   3805\u001b[0m \u001b[38;5;28;01mif\u001b[39;00m \u001b[38;5;28mself\u001b[39m\u001b[38;5;241m.\u001b[39mcolumns\u001b[38;5;241m.\u001b[39mnlevels \u001b[38;5;241m>\u001b[39m \u001b[38;5;241m1\u001b[39m:\n\u001b[1;32m   3806\u001b[0m     \u001b[38;5;28;01mreturn\u001b[39;00m \u001b[38;5;28mself\u001b[39m\u001b[38;5;241m.\u001b[39m_getitem_multilevel(key)\n\u001b[0;32m-> 3807\u001b[0m indexer \u001b[38;5;241m=\u001b[39m \u001b[38;5;28;43mself\u001b[39;49m\u001b[38;5;241;43m.\u001b[39;49m\u001b[43mcolumns\u001b[49m\u001b[38;5;241;43m.\u001b[39;49m\u001b[43mget_loc\u001b[49m\u001b[43m(\u001b[49m\u001b[43mkey\u001b[49m\u001b[43m)\u001b[49m\n\u001b[1;32m   3808\u001b[0m \u001b[38;5;28;01mif\u001b[39;00m is_integer(indexer):\n\u001b[1;32m   3809\u001b[0m     indexer \u001b[38;5;241m=\u001b[39m [indexer]\n",
      "File \u001b[0;32m~/opt/anaconda3/envs/py9/lib/python3.9/site-packages/pandas/core/indexes/base.py:3804\u001b[0m, in \u001b[0;36mIndex.get_loc\u001b[0;34m(self, key, method, tolerance)\u001b[0m\n\u001b[1;32m   3802\u001b[0m     \u001b[38;5;28;01mreturn\u001b[39;00m \u001b[38;5;28mself\u001b[39m\u001b[38;5;241m.\u001b[39m_engine\u001b[38;5;241m.\u001b[39mget_loc(casted_key)\n\u001b[1;32m   3803\u001b[0m \u001b[38;5;28;01mexcept\u001b[39;00m \u001b[38;5;167;01mKeyError\u001b[39;00m \u001b[38;5;28;01mas\u001b[39;00m err:\n\u001b[0;32m-> 3804\u001b[0m     \u001b[38;5;28;01mraise\u001b[39;00m \u001b[38;5;167;01mKeyError\u001b[39;00m(key) \u001b[38;5;28;01mfrom\u001b[39;00m \u001b[38;5;21;01merr\u001b[39;00m\n\u001b[1;32m   3805\u001b[0m \u001b[38;5;28;01mexcept\u001b[39;00m \u001b[38;5;167;01mTypeError\u001b[39;00m:\n\u001b[1;32m   3806\u001b[0m     \u001b[38;5;66;03m# If we have a listlike key, _check_indexing_error will raise\u001b[39;00m\n\u001b[1;32m   3807\u001b[0m     \u001b[38;5;66;03m#  InvalidIndexError. Otherwise we fall through and re-raise\u001b[39;00m\n\u001b[1;32m   3808\u001b[0m     \u001b[38;5;66;03m#  the TypeError.\u001b[39;00m\n\u001b[1;32m   3809\u001b[0m     \u001b[38;5;28mself\u001b[39m\u001b[38;5;241m.\u001b[39m_check_indexing_error(key)\n",
      "\u001b[0;31mKeyError\u001b[0m: 'SITE_+/-7_AA'"
     ]
    }
   ],
   "source": [
    "\n",
    "\n",
    "for ii in range(len(data_sel_psp)):\n",
    "    if data_sel_psp['SITE_+/-7_AA'][ii][7] == \"k\":\n",
    "        # data_sel_psp_k = pd.concat([data_sel_psp_k, data_sel_psp.iloc[ii]])\n",
    "        pass\n",
    "    else:\n",
    "        print(ii)\n",
    "        data_sel_psp_k = data_sel_psp_k.drop(index=[ii])\n",
    "# %%\n",
    "data_sel_psp_k['SITE_+/-7_AA'] = data_sel_psp_k['SITE_+/-7_AA'].str.upper()\n",
    "\n",
    "data_psp_valid_entry = data_sel_psp_k\n",
    "\n",
    "for ii in range(len(data_sel_psp_k)):\n",
    "    try:\n",
    "        data = fasta_seq_df.loc[fasta_seq_df['id']\n",
    "                                == data_sel_psp_k['ACC_ID'][ii]]\n",
    "    # if str(data_dbptm_sel['seq'][ii]) in str(data.iloc[0]['seq']):\n",
    "        s = re.sub('[^a-zA-Z]+', '', str(data_sel_psp_k['SITE_+/-7_AA'][ii]))\n",
    "        if s in str(data.iloc[0]['seq']):\n",
    "            pass\n",
    "        else:\n",
    "            data_psp_valid_entry = data_psp_valid_entry.drop(index=[ii])\n",
    "            print(ii)\n",
    "    except:\n",
    "        pass\n",
    "# %%\n",
    "\n",
    "# Clean up headers and write out\n",
    "data_psp_valid_entry.columns = [x.lower()\n",
    "                                for x in data_psp_valid_entry.columns]\n",
    "data_psp_valid_entry = data_psp_valid_entry.rename(\n",
    "    columns={\"site_+/-7_aa\": \"seq\"})\n",
    "# %%\n",
    "# Write out master info\n",
    "# data_psp_valid_entry.to_csv(\n",
    "#    folder_path + '/data/psp_info.tsv', sep='\\t', index=False)\n",
    "\n",
    "# Master information\n",
    "# data_sel_psp.to_csv(folder_path + '/data/psp_info.txt', sep = '\\t', index=False)\n",
    "\n",
    "# UniProt IDs to search for full length sequences\n",
    "# data_sel_psp['acc_id'].to_csv(folder_path + '/data/psp_ids.txt', sep = '\\t', index=False)\n",
    "\n",
    "# Quick EDA\n",
    "# Number of sites\n",
    "len(data_psp_valid_entry.index)\n",
    "data_psp_valid_entry.groupby(['acc_id']).ngroups\n",
    "\n",
    "psp_id = pd.DataFrame(list(set(data_psp_valid_entry['acc_id'])))\n",
    "psp_id.to_csv(folder_path + '/data/psp_id.txt', sep='\\t', index=False)"
   ]
  }
 ],
 "metadata": {
  "kernelspec": {
   "display_name": "py9",
   "language": "python",
   "name": "python3"
  },
  "language_info": {
   "codemirror_mode": {
    "name": "ipython",
    "version": 3
   },
   "file_extension": ".py",
   "mimetype": "text/x-python",
   "name": "python",
   "nbconvert_exporter": "python",
   "pygments_lexer": "ipython3",
   "version": "3.9.19"
  }
 },
 "nbformat": 4,
 "nbformat_minor": 2
}
