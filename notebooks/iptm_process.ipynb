{
 "cells": [
  {
   "cell_type": "code",
   "execution_count": 25,
   "metadata": {},
   "outputs": [],
   "source": [
    "# %% Library\n",
    "######################################################################################\n",
    "#print(\"Import Libraries & Set up directory\")\n",
    "\n",
    "import urllib.request\n",
    "import numpy as np\n",
    "import pandas as pd\n",
    "from Bio import SeqIO\n",
    "import re\n",
    "import os\n",
    "from collections import defaultdict\n",
    "from collections import Counter\n",
    "import matplotlib.pyplot as plt\n",
    "from statistics import mean, median, quantiles, mode\n",
    "\n",
    "folder_path = \"/Users/nguyjust/Library/CloudStorage/OneDrive-OregonHealth&ScienceUniversity/ubsite/\""
   ]
  },
  {
   "cell_type": "markdown",
   "metadata": {},
   "source": [
    "### UniProt Reference File\n",
    "Downloaded 5/23/2024 based on UniProt IDs from iPTM database"
   ]
  },
  {
   "cell_type": "code",
   "execution_count": 2,
   "metadata": {},
   "outputs": [],
   "source": [
    "# %% Read in UniProt Reference File\n",
    "######################################################################################\n",
    "# Data read in\n",
    "fasta_seqs = list(SeqIO.parse(\n",
    "    open(folder_path + 'data/idmapping_2024_05_23_iptm.fasta'), 'fasta'))\n",
    "\n",
    "# print(\"Read in fasta file\")\n",
    "\n",
    "# Clean fasta ID names for quicker query\n",
    "for ii in range(len(fasta_seqs)):\n",
    "    fasta_seqs[ii].id = fasta_seqs[ii].id.split(\"|\")[1]\n",
    "\n",
    "fasta_seq_df = pd.DataFrame(columns=['id', 'seq'])\n",
    "\n",
    "for ii in range(len(fasta_seqs)):\n",
    "    fasta_seq_df.loc[len(fasta_seq_df.index)] = [\n",
    "        fasta_seqs[ii].id, fasta_seqs[ii].seq]\n",
    "    # fasta_seq_df.append({'id': fasta_seqs[0].id, 'seq': fasta_seqs[0].seq}, ignore_index=True)\n",
    "\n",
    "fasta_seq_df['seq'] = fasta_seq_df['seq'].astype(str)\n",
    "\n",
    "fasta_seq_list = fasta_seq_df.values.tolist()"
   ]
  },
  {
   "cell_type": "code",
   "execution_count": 3,
   "metadata": {},
   "outputs": [
    {
     "name": "stdout",
     "output_type": "stream",
     "text": [
      "number of sequences: 23584\n",
      "FASTA original colummns: Index(['id', 'seq'], dtype='object')\n"
     ]
    }
   ],
   "source": [
    "# EDA on raw FASTA file\n",
    "print(f\"number of sequences: {len(fasta_seq_df)}\")\n",
    "\n",
    "print(f\"FASTA original colummns: {fasta_seq_df.columns}\")"
   ]
  },
  {
   "cell_type": "markdown",
   "metadata": {},
   "source": [
    "## iPTMnet\n",
    "Main: https://research.bioinformatics.udel.edu/iptmnet/\n",
    "\n",
    "Website: https://research.bioinformatics.udel.edu/iptmnet/download\n",
    "\n",
    "Version: Release 6.2 (in readme.txt file)\n",
    "\n",
    "Last Modified:\n",
    "\n",
    "Date of Download: 05/21/2024 \n",
    "\n"
   ]
  },
  {
   "cell_type": "code",
   "execution_count": 4,
   "metadata": {},
   "outputs": [
    {
     "name": "stdout",
     "output_type": "stream",
     "text": [
      "iPTM colummns: Index(['ptm', 'source', 'substrate_uniprot', 'substrate_genename', 'organism',\n",
      "       'site', 'enzyme_uniprot', 'enzyme_genename', 'note', 'pmid'],\n",
      "      dtype='object')\n",
      "ptm                            ACETYLATION\n",
      "source                                iedb\n",
      "substrate_uniprot                   A8TX70\n",
      "substrate_genename                  COL6A5\n",
      "organism              Homo sapiens (Human)\n",
      "site                                  K652\n",
      "enzyme_uniprot                         NaN\n",
      "enzyme_genename                        NaN\n",
      "note                          iedb:1797193\n",
      "pmid                              34357683\n",
      "Name: 0, dtype: object\n",
      "Number of entries in iPTM: 1055800\n"
     ]
    }
   ],
   "source": [
    "# %% iPTM Read in\n",
    "######################################################################################\n",
    "\n",
    "## Read in the iPTM Dataset\n",
    "data_iptm = pd.read_csv(folder_path + '/raw_data/iptm/ptm.txt',\n",
    "                       sep=\"\\t\", low_memory=False, header=None)\n",
    "\n",
    "'''\n",
    "Columns according to readme: \t\n",
    "    ptm_type \n",
    "\tsource \n",
    "\tsubstrate_UniProtAC \n",
    "\tsubstrate_genename\n",
    "\torganism\n",
    "\tsite \n",
    "\tenzyme_UniProtAC \n",
    "\tenzyme_genename\n",
    "\tnote \n",
    "\tpmid\n",
    "'''\n",
    "\n",
    "data_iptm.rename(columns={0: 'ptm', 1: 'source', 2: 'substrate_uniprot',\n",
    "                            3: 'substrate_genename', 4: 'organism', 5: 'site',\n",
    "                            6: 'enzyme_uniprot', 7: 'enzyme_genename', 8: 'note', 9: 'pmid'}, inplace=True)\n",
    "\n",
    "## Look at the columns to check file integrity\n",
    "print(f\"iPTM colummns: {data_iptm.columns}\")\n",
    "\n",
    "## Check by printing first row\n",
    "print(data_iptm.iloc[0])\n",
    "\n",
    "## Check Number of entries in iPTM\n",
    "print(f'Number of entries in iPTM: {len(data_iptm)}')"
   ]
  },
  {
   "cell_type": "code",
   "execution_count": 5,
   "metadata": {},
   "outputs": [
    {
     "data": {
      "text/html": [
       "<div>\n",
       "<style scoped>\n",
       "    .dataframe tbody tr th:only-of-type {\n",
       "        vertical-align: middle;\n",
       "    }\n",
       "\n",
       "    .dataframe tbody tr th {\n",
       "        vertical-align: top;\n",
       "    }\n",
       "\n",
       "    .dataframe thead th {\n",
       "        text-align: right;\n",
       "    }\n",
       "</style>\n",
       "<table border=\"1\" class=\"dataframe\">\n",
       "  <thead>\n",
       "    <tr style=\"text-align: right;\">\n",
       "      <th></th>\n",
       "      <th>ptm</th>\n",
       "      <th>substrate_genename</th>\n",
       "      <th>substrate_uniprot</th>\n",
       "      <th>organism</th>\n",
       "      <th>site</th>\n",
       "    </tr>\n",
       "  </thead>\n",
       "  <tbody>\n",
       "    <tr>\n",
       "      <th>0</th>\n",
       "      <td>ACETYLATION</td>\n",
       "      <td>COL6A5</td>\n",
       "      <td>A8TX70</td>\n",
       "      <td>Homo sapiens (Human)</td>\n",
       "      <td>K652</td>\n",
       "    </tr>\n",
       "    <tr>\n",
       "      <th>1</th>\n",
       "      <td>ACETYLATION</td>\n",
       "      <td>MYO9A</td>\n",
       "      <td>B2RTY4</td>\n",
       "      <td>Homo sapiens (Human)</td>\n",
       "      <td>K2393</td>\n",
       "    </tr>\n",
       "    <tr>\n",
       "      <th>2</th>\n",
       "      <td>ACETYLATION</td>\n",
       "      <td>MYO1C</td>\n",
       "      <td>O00159</td>\n",
       "      <td>Homo sapiens (Human)</td>\n",
       "      <td>K396</td>\n",
       "    </tr>\n",
       "    <tr>\n",
       "      <th>3</th>\n",
       "      <td>ACETYLATION</td>\n",
       "      <td>ADAM10</td>\n",
       "      <td>O14672</td>\n",
       "      <td>Homo sapiens (Human)</td>\n",
       "      <td>K659</td>\n",
       "    </tr>\n",
       "    <tr>\n",
       "      <th>4</th>\n",
       "      <td>ACETYLATION</td>\n",
       "      <td>CEP290</td>\n",
       "      <td>O15078</td>\n",
       "      <td>Homo sapiens (Human)</td>\n",
       "      <td>K1350</td>\n",
       "    </tr>\n",
       "  </tbody>\n",
       "</table>\n",
       "</div>"
      ],
      "text/plain": [
       "           ptm substrate_genename substrate_uniprot              organism  \\\n",
       "0  ACETYLATION             COL6A5            A8TX70  Homo sapiens (Human)   \n",
       "1  ACETYLATION              MYO9A            B2RTY4  Homo sapiens (Human)   \n",
       "2  ACETYLATION              MYO1C            O00159  Homo sapiens (Human)   \n",
       "3  ACETYLATION             ADAM10            O14672  Homo sapiens (Human)   \n",
       "4  ACETYLATION             CEP290            O15078  Homo sapiens (Human)   \n",
       "\n",
       "    site  \n",
       "0   K652  \n",
       "1  K2393  \n",
       "2   K396  \n",
       "3   K659  \n",
       "4  K1350  "
      ]
     },
     "execution_count": 5,
     "metadata": {},
     "output_type": "execute_result"
    }
   ],
   "source": [
    "## Grab relevant iptm df column \n",
    "## Data with selected data columns\n",
    "data_sel_iptm = data_iptm[['ptm', 'substrate_genename', 'substrate_uniprot',\n",
    "                         'organism', 'site']].copy()\n",
    "\n",
    "## Check that correct columns is copied\n",
    "data_sel_iptm.head()"
   ]
  },
  {
   "cell_type": "code",
   "execution_count": 6,
   "metadata": {},
   "outputs": [
    {
     "name": "stdout",
     "output_type": "stream",
     "text": [
      "                   ptm substrate_genename substrate_uniprot  \\\n",
      "917005  UBIQUITINATION                A2M            P01023   \n",
      "917006  UBIQUITINATION               eaf1            A0ZWU1   \n",
      "917007  UBIQUITINATION               eaf1            A0ZWU1   \n",
      "917008  UBIQUITINATION               eaf1            A0ZWU1   \n",
      "917009  UBIQUITINATION              lsd90            A9ZLL8   \n",
      "\n",
      "                                                 organism  site  \n",
      "917005                               Homo sapiens (Human)  K841  \n",
      "917006  Schizosaccharomyces pombe (strain 972 / ATCC 2...  K111  \n",
      "917007  Schizosaccharomyces pombe (strain 972 / ATCC 2...   K19  \n",
      "917008  Schizosaccharomyces pombe (strain 972 / ATCC 2...    K6  \n",
      "917009  Schizosaccharomyces pombe (strain 972 / ATCC 2...  K137  \n",
      "{'UBIQUITINATION'}\n",
      "138795\n"
     ]
    }
   ],
   "source": [
    "## Subsect for UBIQUITINATION modification\n",
    "data_sel_iptm = data_sel_iptm[data_sel_iptm['ptm'] == \"UBIQUITINATION\"]\n",
    "\n",
    "## Check dataframe\n",
    "print(data_sel_iptm.head())\n",
    "\n",
    "## Check to see if grabbed only Ub modification\n",
    "print(set(data_sel_iptm['ptm']))\n",
    "\n",
    "print(len(data_sel_iptm))"
   ]
  },
  {
   "cell_type": "code",
   "execution_count": 7,
   "metadata": {},
   "outputs": [
    {
     "name": "stdout",
     "output_type": "stream",
     "text": [
      "40\n"
     ]
    },
    {
     "data": {
      "text/plain": [
       "['Bos taurus OX=9913',\n",
       " 'Mus musculus (Mouse)',\n",
       " 'Oncorhynchus mykiss (Rainbow trout) (Salmo gairdneri)',\n",
       " 'Cricetulus griseus (Chinese hamster) (Cricetulus barabensis griseus)',\n",
       " 'Severe acute respiratory syndrome coronavirus 2 (2019-nCoV) (SARS-CoV-2)',\n",
       " 'Drosophila melanogaster (Fruit fly)',\n",
       " 'Homo sapiens (Human)',\n",
       " 'Bos taurus (Bovine)',\n",
       " 'rat',\n",
       " 'Oryctolagus cuniculus OX=9986',\n",
       " 'Gallus gallus (Chicken)',\n",
       " 'Sus scrofa (Pig)',\n",
       " 'Yarrowia lipolytica (strain CLIB 122 / E 150) (Yeast) (Candida lipolytica)',\n",
       " 'Hepatitis C virus genotype 1a (isolate H77) OX=63746',\n",
       " 'Schizosaccharomyces pombe (strain 972 / ATCC 24843) (Fission yeast)',\n",
       " 'Anas platyrhynchos (Mallard) (Anas boschas)',\n",
       " 'Caenorhabditis elegans',\n",
       " 'Plasmodium yoelii yoelii',\n",
       " 'Moloney murine leukemia virus (isolate Shinnick) (MoMLV)',\n",
       " 'Tetrahymena thermophila (strain SB210)',\n",
       " 'Oncorhynchus mykiss OX=8022',\n",
       " 'Chlamydomonas reinhardtii (Chlamydomonas smithii)',\n",
       " 'Severe acute respiratory syndrome coronavirus (SARS-CoV)',\n",
       " 'Gallus gallus OX=9031',\n",
       " 'human',\n",
       " 'Human T-cell leukemia virus 1 (strain Japan ATK-1 subtype A) OX=11926',\n",
       " 'Zaire ebolavirus (strain Mayinga-76) (ZEBOV) (Zaire Ebola virus)',\n",
       " 'mouse',\n",
       " 'Human immunodeficiency virus type 1 group M subtype B (isolate BRU/LAI) (HIV-1)',\n",
       " 'Arabidopsis thaliana (Mouse-ear cress)',\n",
       " 'Strongylocentrotus purpuratus OX=7668',\n",
       " 'Sesamum indicum (Oriental sesame) (Sesamum orientale)',\n",
       " 'Strongylocentrotus purpuratus (Purple sea urchin)',\n",
       " 'Emericella nidulans (strain FGSC A4 / ATCC 38163 / CBS 112.46 / NRRL 194 / M139) (Aspergillus nidulans)',\n",
       " 'Rattus norvegicus (Rat)',\n",
       " \"Saccharomyces cerevisiae (strain ATCC 204508 / S288c) (Baker's yeast)\",\n",
       " 'Human spumaretrovirus (SFVcpz(hu)) (Human foamy virus)',\n",
       " 'Zika virus (isolate ZIKV/Human/Cambodia/FSS13025/2010) OX=2316109',\n",
       " 'Tetrahymena pyriformis',\n",
       " 'Komagataella pastoris (Yeast) (Pichia pastoris)']"
      ]
     },
     "execution_count": 7,
     "metadata": {},
     "output_type": "execute_result"
    }
   ],
   "source": [
    "## Check organisms in dataset\n",
    "print(len(set(data_sel_iptm['organism'])))\n",
    "\n",
    "list(set(data_sel_iptm['organism']))"
   ]
  },
  {
   "cell_type": "code",
   "execution_count": 8,
   "metadata": {},
   "outputs": [
    {
     "data": {
      "text/plain": [
       "[('Homo sapiens (Human)', 98115),\n",
       " ('Mus musculus (Mouse)', 26169),\n",
       " (\"Saccharomyces cerevisiae (strain ATCC 204508 / S288c) (Baker's yeast)\",\n",
       "  6947),\n",
       " ('Schizosaccharomyces pombe (strain 972 / ATCC 24843) (Fission yeast)', 5657),\n",
       " ('Rattus norvegicus (Rat)', 1674),\n",
       " ('Arabidopsis thaliana (Mouse-ear cress)', 74),\n",
       " ('mouse', 44),\n",
       " ('human', 31),\n",
       " ('Drosophila melanogaster (Fruit fly)', 15),\n",
       " ('Gallus gallus (Chicken)', 11),\n",
       " ('Strongylocentrotus purpuratus OX=7668', 6),\n",
       " ('Human spumaretrovirus (SFVcpz(hu)) (Human foamy virus)', 5),\n",
       " ('Severe acute respiratory syndrome coronavirus 2 (2019-nCoV) (SARS-CoV-2)',\n",
       "  4),\n",
       " ('Sus scrofa (Pig)', 3),\n",
       " ('rat', 3),\n",
       " ('Tetrahymena thermophila (strain SB210)', 3),\n",
       " ('Bos taurus (Bovine)', 3),\n",
       " ('Anas platyrhynchos (Mallard) (Anas boschas)', 2),\n",
       " ('Zika virus (isolate ZIKV/Human/Cambodia/FSS13025/2010) OX=2316109', 2),\n",
       " ('Cricetulus griseus (Chinese hamster) (Cricetulus barabensis griseus)', 2),\n",
       " ('Gallus gallus OX=9031', 2),\n",
       " ('Tetrahymena pyriformis', 2),\n",
       " ('Caenorhabditis elegans', 2),\n",
       " ('Bos taurus OX=9913', 2),\n",
       " ('Sesamum indicum (Oriental sesame) (Sesamum orientale)', 2),\n",
       " ('Moloney murine leukemia virus (isolate Shinnick) (MoMLV)', 1),\n",
       " ('Severe acute respiratory syndrome coronavirus (SARS-CoV)', 1),\n",
       " ('Oncorhynchus mykiss OX=8022', 1),\n",
       " ('Human immunodeficiency virus type 1 group M subtype B (isolate BRU/LAI) (HIV-1)',\n",
       "  1),\n",
       " ('Strongylocentrotus purpuratus (Purple sea urchin)', 1),\n",
       " ('Human T-cell leukemia virus 1 (strain Japan ATK-1 subtype A) OX=11926', 1),\n",
       " ('Oncorhynchus mykiss (Rainbow trout) (Salmo gairdneri)', 1),\n",
       " ('Hepatitis C virus genotype 1a (isolate H77) OX=63746', 1),\n",
       " ('Chlamydomonas reinhardtii (Chlamydomonas smithii)', 1),\n",
       " ('Oryctolagus cuniculus OX=9986', 1),\n",
       " ('Zaire ebolavirus (strain Mayinga-76) (ZEBOV) (Zaire Ebola virus)', 1),\n",
       " ('Emericella nidulans (strain FGSC A4 / ATCC 38163 / CBS 112.46 / NRRL 194 / M139) (Aspergillus nidulans)',\n",
       "  1),\n",
       " ('Komagataella pastoris (Yeast) (Pichia pastoris)', 1),\n",
       " ('Yarrowia lipolytica (strain CLIB 122 / E 150) (Yeast) (Candida lipolytica)',\n",
       "  1),\n",
       " ('Plasmodium yoelii yoelii', 1)]"
      ]
     },
     "execution_count": 8,
     "metadata": {},
     "output_type": "execute_result"
    }
   ],
   "source": [
    "iptm_organism_count = Counter(data_sel_iptm['organism'])\n",
    "iptm_organism_count.most_common()"
   ]
  },
  {
   "cell_type": "code",
   "execution_count": 9,
   "metadata": {},
   "outputs": [
    {
     "name": "stdout",
     "output_type": "stream",
     "text": [
      "Total iptm observations: 138795\n",
      "Total unique iptm proteins: 23589\n"
     ]
    }
   ],
   "source": [
    "len_iptm = len(data_sel_iptm['substrate_uniprot'])\n",
    "iptm_uniprot_unique = list(set(data_sel_iptm[\"substrate_uniprot\"]))\n",
    "\n",
    "print(f'Total iptm observations: {len_iptm}')\n",
    "print(f\"Total unique iptm proteins: {len(iptm_uniprot_unique)}\")"
   ]
  },
  {
   "cell_type": "code",
   "execution_count": 10,
   "metadata": {},
   "outputs": [],
   "source": [
    "# Save UniProt IDs to file to download full information from UniProt\n",
    "np.savetxt(folder_path + \"data/iptm_uniprot_ids.tsv\",\n",
    "           iptm_uniprot_unique,\n",
    "           delimiter=\"\\t\",\n",
    "           fmt='% s')"
   ]
  },
  {
   "cell_type": "code",
   "execution_count": 11,
   "metadata": {},
   "outputs": [
    {
     "name": "stdout",
     "output_type": "stream",
     "text": [
      "14\n",
      "                    ptm substrate_genename substrate_uniprot  \\\n",
      "922324   UBIQUITINATION               pub2            Q9UTG2   \n",
      "939119   UBIQUITINATION              HLA-A            P04439   \n",
      "941400   UBIQUITINATION             CYP3A4            P08684   \n",
      "942704   UBIQUITINATION             Ifi204            P0DOV2   \n",
      "978348   UBIQUITINATION               SQLE            Q14534   \n",
      "981237   UBIQUITINATION             SEC23A            Q15436   \n",
      "981238   UBIQUITINATION             SEC23A            Q15436   \n",
      "1024911  UBIQUITINATION              RBCK1            Q9BYM8   \n",
      "1024912  UBIQUITINATION              RBCK1            Q9BYM8   \n",
      "1024913  UBIQUITINATION              RBCK1            Q9BYM8   \n",
      "1026705  UBIQUITINATION               Mlkl            Q9D2Y4   \n",
      "1026706  UBIQUITINATION               Mlkl            Q9D2Y4   \n",
      "1054389  UBIQUITINATION                LTF            P02788   \n",
      "1054390  UBIQUITINATION                LTF            P02788   \n",
      "\n",
      "                                                  organism  site  \n",
      "922324   Schizosaccharomyces pombe (strain 972 / ATCC 2...  C639  \n",
      "939119                                Homo sapiens (Human)   R68  \n",
      "941400                                Homo sapiens (Human)  S116  \n",
      "942704                                Mus musculus (Mouse)   T90  \n",
      "978348                                Homo sapiens (Human)   S83  \n",
      "981237                                Homo sapiens (Human)  C432  \n",
      "981238                                Homo sapiens (Human)  C449  \n",
      "1024911                               Homo sapiens (Human)  S132  \n",
      "1024912                               Homo sapiens (Human)  S137  \n",
      "1024913                               Homo sapiens (Human)  T136  \n",
      "1026705                               Mus musculus (Mouse)  N163  \n",
      "1026706                               Mus musculus (Mouse)  R208  \n",
      "1054389                               Homo sapiens (Human)  Q379  \n",
      "1054390                               Homo sapiens (Human)  S391  \n",
      "Observations with LYSINE: 138781\n"
     ]
    }
   ],
   "source": [
    "## Find sites that do not have a lysine as the modification site\n",
    "print(len(data_sel_iptm[~data_sel_iptm.site.str.match('K')]))\n",
    "print(data_sel_iptm[~data_sel_iptm.site.str.match('K')])\n",
    "\n",
    "data_sel_iptm_k = data_sel_iptm[data_sel_iptm.site.str.match('K')]\n",
    "\n",
    "# Expect 138795 - 14 obsevations left\n",
    "print(f'Observations with LYSINE: {len(data_sel_iptm_k)}')"
   ]
  },
  {
   "cell_type": "code",
   "execution_count": 12,
   "metadata": {},
   "outputs": [
    {
     "data": {
      "text/plain": [
       "0    841\n",
       "1    111\n",
       "2     19\n",
       "3      6\n",
       "4    137\n",
       "Name: site, dtype: object"
      ]
     },
     "execution_count": 12,
     "metadata": {},
     "output_type": "execute_result"
    }
   ],
   "source": [
    "## Clean Site column to remove the K\n",
    "data_sel_iptm_k = data_sel_iptm_k.reset_index()\n",
    "\n",
    "data_sel_iptm_k['site'] = data_sel_iptm_k['site'].str[1:]\n",
    "\n",
    "data_sel_iptm_k['site'].head()"
   ]
  },
  {
   "cell_type": "code",
   "execution_count": 13,
   "metadata": {},
   "outputs": [],
   "source": [
    "ids = [ii[0] for ii in fasta_seq_list]\n",
    "seqs = [ii[1] for ii in fasta_seq_list]\n",
    "\n",
    "no_ref_match = list()\n",
    "# Check to see that the fragment contains a lysine\n",
    "for ii in range(len(data_sel_iptm_k)):\n",
    "    # print(ii)\n",
    "    try:\n",
    "        tmp_idx_seq = ids.index(data_sel_iptm_k['substrate_uniprot'][ii])\n",
    "        temp_seq = seqs[tmp_idx_seq]\n",
    "        site = temp_seq[[int(data_sel_iptm_k['ub_mod_loc'][ii])-1]]\n",
    "        if site == \"K\":\n",
    "            pass\n",
    "        else:\n",
    "            no_ref_match.append(ii)\n",
    "    except:\n",
    "        pass"
   ]
  },
  {
   "cell_type": "code",
   "execution_count": 14,
   "metadata": {},
   "outputs": [
    {
     "data": {
      "text/plain": [
       "[]"
      ]
     },
     "execution_count": 14,
     "metadata": {},
     "output_type": "execute_result"
    }
   ],
   "source": [
    "no_ref_match"
   ]
  },
  {
   "cell_type": "code",
   "execution_count": 15,
   "metadata": {},
   "outputs": [
    {
     "data": {
      "text/html": [
       "<div>\n",
       "<style scoped>\n",
       "    .dataframe tbody tr th:only-of-type {\n",
       "        vertical-align: middle;\n",
       "    }\n",
       "\n",
       "    .dataframe tbody tr th {\n",
       "        vertical-align: top;\n",
       "    }\n",
       "\n",
       "    .dataframe thead th {\n",
       "        text-align: right;\n",
       "    }\n",
       "</style>\n",
       "<table border=\"1\" class=\"dataframe\">\n",
       "  <thead>\n",
       "    <tr style=\"text-align: right;\">\n",
       "      <th></th>\n",
       "      <th>protein</th>\n",
       "      <th>uniprot_id</th>\n",
       "      <th>organism</th>\n",
       "      <th>ub_mod_loc</th>\n",
       "    </tr>\n",
       "  </thead>\n",
       "  <tbody>\n",
       "    <tr>\n",
       "      <th>0</th>\n",
       "      <td>A2M</td>\n",
       "      <td>P01023</td>\n",
       "      <td>Homo sapiens (Human)</td>\n",
       "      <td>841</td>\n",
       "    </tr>\n",
       "    <tr>\n",
       "      <th>1</th>\n",
       "      <td>eaf1</td>\n",
       "      <td>A0ZWU1</td>\n",
       "      <td>Schizosaccharomyces pombe (strain 972 / ATCC 2...</td>\n",
       "      <td>111</td>\n",
       "    </tr>\n",
       "    <tr>\n",
       "      <th>2</th>\n",
       "      <td>eaf1</td>\n",
       "      <td>A0ZWU1</td>\n",
       "      <td>Schizosaccharomyces pombe (strain 972 / ATCC 2...</td>\n",
       "      <td>19</td>\n",
       "    </tr>\n",
       "    <tr>\n",
       "      <th>3</th>\n",
       "      <td>eaf1</td>\n",
       "      <td>A0ZWU1</td>\n",
       "      <td>Schizosaccharomyces pombe (strain 972 / ATCC 2...</td>\n",
       "      <td>6</td>\n",
       "    </tr>\n",
       "    <tr>\n",
       "      <th>4</th>\n",
       "      <td>lsd90</td>\n",
       "      <td>A9ZLL8</td>\n",
       "      <td>Schizosaccharomyces pombe (strain 972 / ATCC 2...</td>\n",
       "      <td>137</td>\n",
       "    </tr>\n",
       "  </tbody>\n",
       "</table>\n",
       "</div>"
      ],
      "text/plain": [
       "  protein uniprot_id                                           organism  \\\n",
       "0     A2M     P01023                               Homo sapiens (Human)   \n",
       "1    eaf1     A0ZWU1  Schizosaccharomyces pombe (strain 972 / ATCC 2...   \n",
       "2    eaf1     A0ZWU1  Schizosaccharomyces pombe (strain 972 / ATCC 2...   \n",
       "3    eaf1     A0ZWU1  Schizosaccharomyces pombe (strain 972 / ATCC 2...   \n",
       "4   lsd90     A9ZLL8  Schizosaccharomyces pombe (strain 972 / ATCC 2...   \n",
       "\n",
       "  ub_mod_loc  \n",
       "0        841  \n",
       "1        111  \n",
       "2         19  \n",
       "3          6  \n",
       "4        137  "
      ]
     },
     "execution_count": 15,
     "metadata": {},
     "output_type": "execute_result"
    }
   ],
   "source": [
    "data_sel_iptm_k.columns\n",
    "\n",
    "data_sel_iptm_k.rename(columns = {'substrate_genename':'protein',\n",
    "                                  'substrate_uniprot':'uniprot_id',\n",
    "                                  'site': 'ub_mod_loc'}, inplace=True)\n",
    "\n",
    "data_sel_iptm_k.head()\n",
    "\n",
    "data_sel_iptm_k = data_sel_iptm_k.drop(columns=['index', 'ptm'])\n",
    "\n",
    "data_sel_iptm_k.head()"
   ]
  },
  {
   "cell_type": "code",
   "execution_count": 16,
   "metadata": {},
   "outputs": [],
   "source": [
    "# Write out master info\n",
    "data_sel_iptm_k.to_csv(\n",
    "    folder_path + '/data/iptm_info.tsv', sep='\\t', index=False)"
   ]
  },
  {
   "cell_type": "code",
   "execution_count": 17,
   "metadata": {},
   "outputs": [
    {
     "name": "stdout",
     "output_type": "stream",
     "text": [
      "Number of unique sites: 138781\n",
      "Number of unique proteins: 23588\n",
      "Number of unique organisms: 40\n"
     ]
    }
   ],
   "source": [
    "# Quick EDA\n",
    "\n",
    "print(f\"Number of unique sites: {len(data_sel_iptm_k['ub_mod_loc'])}\")\n",
    "\n",
    "print(f\"Number of unique proteins: {len(set(data_sel_iptm_k['uniprot_id']))}\")\n",
    "\n",
    "print(f\"Number of unique organisms: {len(set(data_sel_iptm_k['organism']))}\")"
   ]
  },
  {
   "cell_type": "code",
   "execution_count": 24,
   "metadata": {},
   "outputs": [
    {
     "data": {
      "text/plain": [
       "<BarContainer object of 23588 artists>"
      ]
     },
     "execution_count": 24,
     "metadata": {},
     "output_type": "execute_result"
    },
    {
     "data": {
      "image/png": "[encoded data removed]",
      "text/plain": [
       "<Figure size 640x480 with 1 Axes>"
      ]
     },
     "metadata": {},
     "output_type": "display_data"
    }
   ],
   "source": [
    "iptm_site_count = Counter(data_sel_iptm_k['uniprot_id'])\n",
    "iptm_site_count_sort = dict(sorted(iptm_site_count.items(), key=lambda item: item[1], reverse=True))\n",
    "list(iptm_site_count_sort.items())[:4]\n",
    "max_y_lim = 475\n",
    "plt.bar(iptm_site_count_sort.keys(),iptm_site_count_sort.values())"
   ]
  },
  {
   "cell_type": "code",
   "execution_count": 26,
   "metadata": {},
   "outputs": [
    {
     "name": "stdout",
     "output_type": "stream",
     "text": [
      "mean: 5.883542479226725\n",
      "median: 3.0\n",
      "mode: 1\n",
      "quantiles: [1.0, 3.0, 7.0]\n"
     ]
    }
   ],
   "source": [
    "\n",
    "print(f'mean: {mean(iptm_site_count_sort.values())}')\n",
    "print(f'median: {median(iptm_site_count_sort.values())}')\n",
    "print(f'mode: {mode(iptm_site_count_sort.values())}')\n",
    "print(f'quantiles: {quantiles(iptm_site_count_sort.values())}')"
   ]
  },
  {
   "cell_type": "code",
   "execution_count": null,
   "metadata": {},
   "outputs": [],
   "source": []
  }
 ],
 "metadata": {
  "kernelspec": {
   "display_name": "py9",
   "language": "python",
   "name": "python3"
  },
  "language_info": {
   "codemirror_mode": {
    "name": "ipython",
    "version": 3
   },
   "file_extension": ".py",
   "mimetype": "text/x-python",
   "name": "python",
   "nbconvert_exporter": "python",
   "pygments_lexer": "ipython3",
   "version": "3.9.19"
  }
 },
 "nbformat": 4,
 "nbformat_minor": 2
}
