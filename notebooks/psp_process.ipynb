{
 "cells": [
  {
   "cell_type": "code",
   "execution_count": 2,
   "metadata": {},
   "outputs": [],
   "source": [
    "# %% Library\n",
    "######################################################################################\n",
    "# print(\"Import Libraries & Set up directory\")\n",
    "import numpy as np\n",
    "import pandas as pd\n",
    "from Bio import SeqIO\n",
    "import re\n",
    "import os\n",
    "from collections import defaultdict\n",
    "from collections import Counter\n",
    "import matplotlib.pyplot as plt\n",
    "from statistics import mean, median, quantiles, mode\n",
    "\n",
    "folder_path = \"/Users/nguyjust/Library/CloudStorage/OneDrive-OregonHealth&ScienceUniversity/ubsite/\""
   ]
  },
  {
   "cell_type": "markdown",
   "metadata": {},
   "source": [
    "### UniProt Reference File\n",
    "\n",
    "Downloaded 5/21/2024 based on UniProt IDs from PSP database"
   ]
  },
  {
   "cell_type": "code",
   "execution_count": 3,
   "metadata": {},
   "outputs": [],
   "source": [
    "# %% Read in UniProt Reference File\n",
    "######################################################################################\n",
    "## Data read in\n",
    "fasta_seqs = list(SeqIO.parse(open(folder_path + 'data/idmapping_2024_05_21_psp.fasta'), 'fasta' ))\n",
    "\n",
    "#print(\"Read in fasta file\")\n",
    "\n",
    "## Clean fasta ID names for quicker query\n",
    "for ii in range(len(fasta_seqs)):\n",
    "    fasta_seqs[ii].id = fasta_seqs[ii].id.split(\"|\")[1] \n",
    "    \n",
    "fasta_seq_df = pd.DataFrame(columns = ['id', 'seq'])\n",
    "\n",
    "for ii in range(len(fasta_seqs)):\n",
    "    fasta_seq_df.loc[len(fasta_seq_df.index)] = [fasta_seqs[ii].id, fasta_seqs[ii].seq]\n",
    "    #fasta_seq_df.append({'id': fasta_seqs[0].id, 'seq': fasta_seqs[0].seq}, ignore_index=True)\n",
    "\n",
    "fasta_seq_df['seq'] = fasta_seq_df['seq'].astype(str)\n",
    "\n",
    "fasta_seq_list = fasta_seq_df.values.tolist()"
   ]
  },
  {
   "cell_type": "code",
   "execution_count": 4,
   "metadata": {},
   "outputs": [
    {
     "name": "stdout",
     "output_type": "stream",
     "text": [
      "number of sequences: 19754\n",
      "FASTA original colummns: Index(['id', 'seq'], dtype='object')\n"
     ]
    }
   ],
   "source": [
    "## EDA on raw FASTA file\n",
    "print(f\"number of sequences: {len(fasta_seq_df)}\")\n",
    "\n",
    "print(f\"FASTA original colummns: {fasta_seq_df.columns}\")"
   ]
  },
  {
   "cell_type": "markdown",
   "metadata": {},
   "source": [
    "### PhosphoSitePlus \n",
    "\n",
    "Website: \n",
    "https://www.phosphosite.org/staticDownloadshttps://www.phosphosite.org/staticDownloads\n",
    "\n",
    "Downloaded: \n",
    "Ubiquitination_site_dataset.gz (2MB)\n",
    "\n",
    "Last Modified: \n",
    "Fri May 17 09:42:44 EDT 2024\n",
    "\n",
    "Date of Download: \n",
    "05/21/2024 09:58 PST"
   ]
  },
  {
   "cell_type": "code",
   "execution_count": 5,
   "metadata": {},
   "outputs": [
    {
     "name": "stdout",
     "output_type": "stream",
     "text": [
      "PSP original colummns: Index(['GENE', 'PROTEIN', 'ACC_ID', 'HU_CHR_LOC', 'MOD_RSD', 'SITE_GRP_ID',\n",
      "       'ORGANISM', 'MW_kD', 'DOMAIN', 'SITE_+/-7_AA', 'LT_LIT', 'MS_LIT',\n",
      "       'MS_CST', 'CST_CAT#', 'Ambiguous_Site'],\n",
      "      dtype='object')\n",
      "GENE                        YWHAB\n",
      "PROTEIN               14-3-3 beta\n",
      "ACC_ID                     P31946\n",
      "HU_CHR_LOC               20q13.12\n",
      "MOD_RSD                     K5-ub\n",
      "SITE_GRP_ID              41481400\n",
      "ORGANISM                    human\n",
      "MW_kD                       28.08\n",
      "DOMAIN                        NaN\n",
      "SITE_+/-7_AA      ___MtMDksELVQkA\n",
      "LT_LIT                        NaN\n",
      "MS_LIT                        4.0\n",
      "MS_CST                        NaN\n",
      "CST_CAT#                      NaN\n",
      "Ambiguous_Site                  0\n",
      "Name: 0, dtype: object\n",
      "Number of entries in PSP: 126329\n"
     ]
    }
   ],
   "source": [
    "# %% PhosphoSitePlus Read in\n",
    "######################################################################################\n",
    "\n",
    "## Read in the PhosphoSite Dataset\n",
    "data_psp = pd.read_csv(folder_path + '/raw_data/PSP/Ubiquitination_site_dataset',\n",
    "                       sep=\"\\t\", low_memory=False, skiprows=[0, 1, 2])\n",
    "\n",
    "## Look at the columns to check file integrity\n",
    "print(f\"PSP original colummns: {data_psp.columns}\")\n",
    "\n",
    "## Check by printing first row\n",
    "print(data_psp.iloc[0])\n",
    "\n",
    "## Check Number of entries in PSP\n",
    "print(f'Number of entries in PSP: {len(data_psp)}')"
   ]
  },
  {
   "cell_type": "code",
   "execution_count": 6,
   "metadata": {},
   "outputs": [
    {
     "name": "stdout",
     "output_type": "stream",
     "text": [
      "Number of ambiguous sites: 9943\n"
     ]
    }
   ],
   "source": [
    "ambig_psp = data_psp[data_psp['Ambiguous_Site'] == 1]\n",
    "\n",
    "ambig_psp.head()\n",
    "\n",
    "print(f\"Number of ambiguous sites: {len(ambig_psp)}\")"
   ]
  },
  {
   "cell_type": "markdown",
   "metadata": {},
   "source": [
    "*Consideration:*\n",
    "\n",
    "Why are there ambiguous sites? Where does this data come from? Should I filter these out of the training data?"
   ]
  },
  {
   "cell_type": "code",
   "execution_count": 7,
   "metadata": {},
   "outputs": [
    {
     "data": {
      "text/html": [
       "<div>\n",
       "<style scoped>\n",
       "    .dataframe tbody tr th:only-of-type {\n",
       "        vertical-align: middle;\n",
       "    }\n",
       "\n",
       "    .dataframe tbody tr th {\n",
       "        vertical-align: top;\n",
       "    }\n",
       "\n",
       "    .dataframe thead th {\n",
       "        text-align: right;\n",
       "    }\n",
       "</style>\n",
       "<table border=\"1\" class=\"dataframe\">\n",
       "  <thead>\n",
       "    <tr style=\"text-align: right;\">\n",
       "      <th></th>\n",
       "      <th>PROTEIN</th>\n",
       "      <th>ACC_ID</th>\n",
       "      <th>ORGANISM</th>\n",
       "      <th>MOD_RSD</th>\n",
       "      <th>SITE_+/-7_AA</th>\n",
       "    </tr>\n",
       "  </thead>\n",
       "  <tbody>\n",
       "    <tr>\n",
       "      <th>0</th>\n",
       "      <td>14-3-3 beta</td>\n",
       "      <td>P31946</td>\n",
       "      <td>human</td>\n",
       "      <td>K5-ub</td>\n",
       "      <td>___MtMDksELVQkA</td>\n",
       "    </tr>\n",
       "    <tr>\n",
       "      <th>1</th>\n",
       "      <td>14-3-3 beta</td>\n",
       "      <td>P31946</td>\n",
       "      <td>human</td>\n",
       "      <td>K11-ub</td>\n",
       "      <td>DksELVQkAkLAEQA</td>\n",
       "    </tr>\n",
       "    <tr>\n",
       "      <th>2</th>\n",
       "      <td>14-3-3 beta</td>\n",
       "      <td>Q9CQV8</td>\n",
       "      <td>mouse</td>\n",
       "      <td>K11-ub</td>\n",
       "      <td>DksELVQkAkLAEQA</td>\n",
       "    </tr>\n",
       "    <tr>\n",
       "      <th>3</th>\n",
       "      <td>14-3-3 beta</td>\n",
       "      <td>P35213</td>\n",
       "      <td>rat</td>\n",
       "      <td>K11-ub</td>\n",
       "      <td>DkSELVQkAkLAEQA</td>\n",
       "    </tr>\n",
       "    <tr>\n",
       "      <th>4</th>\n",
       "      <td>14-3-3 beta</td>\n",
       "      <td>P31946</td>\n",
       "      <td>human</td>\n",
       "      <td>K13-ub</td>\n",
       "      <td>sELVQkAkLAEQAER</td>\n",
       "    </tr>\n",
       "  </tbody>\n",
       "</table>\n",
       "</div>"
      ],
      "text/plain": [
       "       PROTEIN  ACC_ID ORGANISM MOD_RSD     SITE_+/-7_AA\n",
       "0  14-3-3 beta  P31946    human   K5-ub  ___MtMDksELVQkA\n",
       "1  14-3-3 beta  P31946    human  K11-ub  DksELVQkAkLAEQA\n",
       "2  14-3-3 beta  Q9CQV8    mouse  K11-ub  DksELVQkAkLAEQA\n",
       "3  14-3-3 beta  P35213      rat  K11-ub  DkSELVQkAkLAEQA\n",
       "4  14-3-3 beta  P31946    human  K13-ub  sELVQkAkLAEQAER"
      ]
     },
     "execution_count": 7,
     "metadata": {},
     "output_type": "execute_result"
    }
   ],
   "source": [
    "## Check PSP df column names\n",
    "## Data with selected data columns\n",
    "## PROTEIN, ACC_ID, ORGANISM, MOD_RSD, SITE_+/-7_AA\n",
    "data_sel_psp = data_psp[['PROTEIN', 'ACC_ID',\n",
    "                         'ORGANISM', 'MOD_RSD', 'SITE_+/-7_AA']].copy()\n",
    "\n",
    "## Check that correct columns is copied\n",
    "data_sel_psp.head()"
   ]
  },
  {
   "cell_type": "code",
   "execution_count": 8,
   "metadata": {},
   "outputs": [
    {
     "data": {
      "text/html": [
       "<div>\n",
       "<style scoped>\n",
       "    .dataframe tbody tr th:only-of-type {\n",
       "        vertical-align: middle;\n",
       "    }\n",
       "\n",
       "    .dataframe tbody tr th {\n",
       "        vertical-align: top;\n",
       "    }\n",
       "\n",
       "    .dataframe thead th {\n",
       "        text-align: right;\n",
       "    }\n",
       "</style>\n",
       "<table border=\"1\" class=\"dataframe\">\n",
       "  <thead>\n",
       "    <tr style=\"text-align: right;\">\n",
       "      <th></th>\n",
       "      <th>PROTEIN</th>\n",
       "      <th>ACC_ID</th>\n",
       "      <th>ORGANISM</th>\n",
       "      <th>SITE_+/-7_AA</th>\n",
       "      <th>ub_mod_loc</th>\n",
       "    </tr>\n",
       "  </thead>\n",
       "  <tbody>\n",
       "    <tr>\n",
       "      <th>0</th>\n",
       "      <td>14-3-3 beta</td>\n",
       "      <td>P31946</td>\n",
       "      <td>human</td>\n",
       "      <td>___MtMDksELVQkA</td>\n",
       "      <td>5</td>\n",
       "    </tr>\n",
       "    <tr>\n",
       "      <th>1</th>\n",
       "      <td>14-3-3 beta</td>\n",
       "      <td>P31946</td>\n",
       "      <td>human</td>\n",
       "      <td>DksELVQkAkLAEQA</td>\n",
       "      <td>11</td>\n",
       "    </tr>\n",
       "    <tr>\n",
       "      <th>2</th>\n",
       "      <td>14-3-3 beta</td>\n",
       "      <td>Q9CQV8</td>\n",
       "      <td>mouse</td>\n",
       "      <td>DksELVQkAkLAEQA</td>\n",
       "      <td>11</td>\n",
       "    </tr>\n",
       "    <tr>\n",
       "      <th>3</th>\n",
       "      <td>14-3-3 beta</td>\n",
       "      <td>P35213</td>\n",
       "      <td>rat</td>\n",
       "      <td>DkSELVQkAkLAEQA</td>\n",
       "      <td>11</td>\n",
       "    </tr>\n",
       "    <tr>\n",
       "      <th>4</th>\n",
       "      <td>14-3-3 beta</td>\n",
       "      <td>P31946</td>\n",
       "      <td>human</td>\n",
       "      <td>sELVQkAkLAEQAER</td>\n",
       "      <td>13</td>\n",
       "    </tr>\n",
       "  </tbody>\n",
       "</table>\n",
       "</div>"
      ],
      "text/plain": [
       "       PROTEIN  ACC_ID ORGANISM     SITE_+/-7_AA ub_mod_loc\n",
       "0  14-3-3 beta  P31946    human  ___MtMDksELVQkA          5\n",
       "1  14-3-3 beta  P31946    human  DksELVQkAkLAEQA         11\n",
       "2  14-3-3 beta  Q9CQV8    mouse  DksELVQkAkLAEQA         11\n",
       "3  14-3-3 beta  P35213      rat  DkSELVQkAkLAEQA         11\n",
       "4  14-3-3 beta  P31946    human  sELVQkAkLAEQAER         13"
      ]
     },
     "execution_count": 8,
     "metadata": {},
     "output_type": "execute_result"
    }
   ],
   "source": [
    "## Clean Ub location column\n",
    "## ie: originally Kxx-ub, but just need to capture the location number for the modified site\n",
    "data_sel_psp['ub_mod_loc'] = data_sel_psp.MOD_RSD.str.extract('(\\d+)')\n",
    "## Drop the old modified site column\n",
    "data_sel_psp = data_sel_psp.drop(['MOD_RSD'], axis=1)\n",
    "\n",
    "## Check that only numbers were captured in the location\n",
    "data_sel_psp.head()"
   ]
  },
  {
   "cell_type": "code",
   "execution_count": 9,
   "metadata": {},
   "outputs": [
    {
     "data": {
      "text/html": [
       "<div>\n",
       "<style scoped>\n",
       "    .dataframe tbody tr th:only-of-type {\n",
       "        vertical-align: middle;\n",
       "    }\n",
       "\n",
       "    .dataframe tbody tr th {\n",
       "        vertical-align: top;\n",
       "    }\n",
       "\n",
       "    .dataframe thead th {\n",
       "        text-align: right;\n",
       "    }\n",
       "</style>\n",
       "<table border=\"1\" class=\"dataframe\">\n",
       "  <thead>\n",
       "    <tr style=\"text-align: right;\">\n",
       "      <th></th>\n",
       "      <th>protein</th>\n",
       "      <th>uniprot_id</th>\n",
       "      <th>organism</th>\n",
       "      <th>sequence</th>\n",
       "      <th>ub_mod_loc</th>\n",
       "    </tr>\n",
       "  </thead>\n",
       "  <tbody>\n",
       "    <tr>\n",
       "      <th>0</th>\n",
       "      <td>14-3-3 beta</td>\n",
       "      <td>P31946</td>\n",
       "      <td>human</td>\n",
       "      <td>___MTMDKSELVQKA</td>\n",
       "      <td>5</td>\n",
       "    </tr>\n",
       "    <tr>\n",
       "      <th>1</th>\n",
       "      <td>14-3-3 beta</td>\n",
       "      <td>P31946</td>\n",
       "      <td>human</td>\n",
       "      <td>DKSELVQKAKLAEQA</td>\n",
       "      <td>11</td>\n",
       "    </tr>\n",
       "    <tr>\n",
       "      <th>2</th>\n",
       "      <td>14-3-3 beta</td>\n",
       "      <td>Q9CQV8</td>\n",
       "      <td>mouse</td>\n",
       "      <td>DKSELVQKAKLAEQA</td>\n",
       "      <td>11</td>\n",
       "    </tr>\n",
       "    <tr>\n",
       "      <th>3</th>\n",
       "      <td>14-3-3 beta</td>\n",
       "      <td>P35213</td>\n",
       "      <td>rat</td>\n",
       "      <td>DKSELVQKAKLAEQA</td>\n",
       "      <td>11</td>\n",
       "    </tr>\n",
       "    <tr>\n",
       "      <th>4</th>\n",
       "      <td>14-3-3 beta</td>\n",
       "      <td>P31946</td>\n",
       "      <td>human</td>\n",
       "      <td>SELVQKAKLAEQAER</td>\n",
       "      <td>13</td>\n",
       "    </tr>\n",
       "  </tbody>\n",
       "</table>\n",
       "</div>"
      ],
      "text/plain": [
       "       protein uniprot_id organism         sequence ub_mod_loc\n",
       "0  14-3-3 beta     P31946    human  ___MTMDKSELVQKA          5\n",
       "1  14-3-3 beta     P31946    human  DKSELVQKAKLAEQA         11\n",
       "2  14-3-3 beta     Q9CQV8    mouse  DKSELVQKAKLAEQA         11\n",
       "3  14-3-3 beta     P35213      rat  DKSELVQKAKLAEQA         11\n",
       "4  14-3-3 beta     P31946    human  SELVQKAKLAEQAER         13"
      ]
     },
     "execution_count": 9,
     "metadata": {},
     "output_type": "execute_result"
    }
   ],
   "source": [
    "## Renaming column names\n",
    "data_sel_psp = data_sel_psp.rename(columns={\"PROTEIN\": \"protein\",\n",
    "                           \"ACC_ID\": \"uniprot_id\", \n",
    "                           \"ORGANISM\": \"organism\",\n",
    "                           \"SITE_+/-7_AA\" : \"sequence\"})\n",
    "data_sel_psp['sequence'] = data_sel_psp['sequence'].str.upper()\n",
    "\n",
    "data_sel_psp.head()"
   ]
  },
  {
   "cell_type": "code",
   "execution_count": 10,
   "metadata": {},
   "outputs": [
    {
     "name": "stdout",
     "output_type": "stream",
     "text": [
      "{'rat', 'pig', 'cow', 'SARSCoV1', 'duck', 'mouse', 'human', 'SARSCoV2', 'chicken'}\n",
      "Number of unique species in PSP: 9\n"
     ]
    }
   ],
   "source": [
    "## PSP organism EDA\n",
    "## Look at the unique species\n",
    "print(set(data_sel_psp['organism']))\n",
    "\n",
    "## Number of unique species\n",
    "print(f\"Number of unique species in PSP: {len(set(data_sel_psp['organism']))}\")"
   ]
  },
  {
   "cell_type": "markdown",
   "metadata": {},
   "source": [
    "** trying to clean up species name to scientific to match other databases, but can do later\n",
    "\n",
    "mouse - Mus musculus\n",
    "\n",
    "chicken - Gallus gallus\n",
    "\n",
    "SARSCoV2 - \n",
    "\n",
    "cow - Bos taurus\n",
    "\n",
    "SARSCoV1 - \n",
    "\n",
    "duck - Anas platyrhynchos\n",
    "\n",
    "pig - Sus scrofa\n",
    "\n",
    "human - Homo sapiens\n",
    "\n",
    "rat - Rattus norvegicus"
   ]
  },
  {
   "cell_type": "code",
   "execution_count": 11,
   "metadata": {},
   "outputs": [
    {
     "name": "stdout",
     "output_type": "stream",
     "text": [
      "Total PSP observations: 126329\n",
      "Total unique PSP proteins: 19917\n"
     ]
    }
   ],
   "source": [
    "len_psp = len(data_sel_psp['uniprot_id'])\n",
    "psp_uniprot_unique = list(set(data_sel_psp[\"uniprot_id\"]))\n",
    "\n",
    "print(f'Total PSP observations: {len_psp}')\n",
    "print(f\"Total unique PSP proteins: {len(psp_uniprot_unique)}\")"
   ]
  },
  {
   "cell_type": "code",
   "execution_count": 12,
   "metadata": {},
   "outputs": [],
   "source": [
    "## Save UniProt IDs to file to download full information from UniProt\n",
    "np.savetxt(folder_path + \"data/psp_uniprot_ids.tsv\",\n",
    "           psp_uniprot_unique,\n",
    "           delimiter=\"\\t\",\n",
    "           fmt='% s')"
   ]
  },
  {
   "cell_type": "code",
   "execution_count": 13,
   "metadata": {},
   "outputs": [
    {
     "name": "stdout",
     "output_type": "stream",
     "text": [
      "S\n",
      "R\n",
      "T\n",
      "N\n",
      "R\n",
      "S\n",
      "T\n",
      "S\n",
      "C\n",
      "C\n",
      "S\n",
      "S\n",
      "T\n"
     ]
    }
   ],
   "source": [
    "## Check to see if fragment centers on K\n",
    "\n",
    "## Create list of lists to keep track of whether sites are K or not\n",
    "psp_non_k = list()\n",
    "psp_non_k_index = list()\n",
    "\n",
    "## Check to see that the fragment contains a lysine\n",
    "for ii in range(len(data_sel_psp)):\n",
    "    if data_sel_psp['sequence'][ii][7] == \"K\":\n",
    "        #psp_k.append(data_sel_psp.values.tolist()[ii])\n",
    "        pass\n",
    "    else:\n",
    "        psp_non_k_index.append(ii)\n",
    "        #print(data_sel_psp['sequence'][ii])\n",
    "        \n",
    "        ## Print out which amino acid is ubiquitinated if NOT K\n",
    "        print(data_sel_psp['sequence'][ii][7])\n",
    "        \n",
    "        psp_non_k.append(data_sel_psp.values.tolist()[ii])\n",
    "        #psp_non_k.append(data_sel_psp)\n",
    "\n",
    "## Create dataframe\n",
    "psp_non_k = pd.DataFrame(psp_non_k, \n",
    "                         columns =['protein', 'uniprot_id', 'organism', 'sequence', 'ub_mod_loc'])"
   ]
  },
  {
   "cell_type": "code",
   "execution_count": 14,
   "metadata": {},
   "outputs": [
    {
     "name": "stdout",
     "output_type": "stream",
     "text": [
      "Sites not on a lysine: 13\n",
      "126329\n",
      "13\n",
      "126316\n"
     ]
    }
   ],
   "source": [
    "## Get df where only mod on K\n",
    "print(f'Sites not on a lysine: {len(psp_non_k)}')\n",
    "\n",
    "print(len(data_sel_psp))\n",
    "print(len(psp_non_k_index))\n",
    "psp_k = data_sel_psp.drop(psp_non_k_index)\n",
    "print(len(psp_k))"
   ]
  },
  {
   "cell_type": "code",
   "execution_count": 15,
   "metadata": {},
   "outputs": [],
   "source": [
    "## Check to see if fragment matches reference protein sequence\n",
    "\n",
    "## Create list of lists to keep track of whether sites are matched in the reference FASTA\n",
    "psp_non_match = list()\n",
    "psp_non_match_index = list()\n",
    "\n",
    "# Check to see that the fragment contains a lysine\n",
    "for ii in range(len(psp_k)):\n",
    "    try:\n",
    "        ## Grab row where matches uniprot id\n",
    "        fasta_data = fasta_seq_df.loc[fasta_seq_df['id']\n",
    "                                      == psp_k['uniprot_id'][ii]]\n",
    "        ## Keep only letters in the fragment recorded\n",
    "        s = re.sub('[^a-zA-Z]+', '', str(psp_k['sequence'][ii]))\n",
    "        if s in str(fasta_data.iloc[0]['seq']):\n",
    "            pass\n",
    "        else:\n",
    "            psp_non_match.append(psp_k.values.tolist()[ii])\n",
    "            psp_non_match_index.append(ii)\n",
    "    except:\n",
    "        pass"
   ]
  },
  {
   "cell_type": "code",
   "execution_count": 16,
   "metadata": {},
   "outputs": [
    {
     "data": {
      "text/plain": [
       "[['ARIH1', 'D3ZXL1', 'rat', 'ENWHDPVKCKWLKKW', '314'],\n",
       " ['ARIH1', 'D3ZXL1', 'rat', 'WHDPVKCKWLKKWIK', '316'],\n",
       " ['CMIP', 'F1M8D3', 'rat', 'HPRTFLSKILTSKFL', '74'],\n",
       " ['H2B1K', 'O60814', 'human', 'VTKYTSAK_______', '125']]"
      ]
     },
     "execution_count": 16,
     "metadata": {},
     "output_type": "execute_result"
    }
   ],
   "source": [
    "## Look at non-match PSP seqs\n",
    "psp_non_match\n"
   ]
  },
  {
   "cell_type": "code",
   "execution_count": 17,
   "metadata": {},
   "outputs": [
    {
     "name": "stdout",
     "output_type": "stream",
     "text": [
      "126316\n",
      "4\n",
      "126312\n"
     ]
    }
   ],
   "source": [
    "# Get df where fragments match\n",
    "print(len(psp_k))\n",
    "print(len(psp_non_match_index))\n",
    "psp_k_match = psp_k.drop(psp_non_match_index).reset_index()\n",
    "print(len(psp_k_match))"
   ]
  },
  {
   "cell_type": "code",
   "execution_count": 18,
   "metadata": {},
   "outputs": [],
   "source": [
    "## Check site to the reference sequence that it is a lysine\n",
    "\n",
    "## Create lists for ids/seqs of the fasta to loop through faster with indexing\n",
    "ids = [ii[0] for ii in fasta_seq_list]\n",
    "seqs = [ii[1] for ii in fasta_seq_list]\n",
    "\n",
    "no_ref_match = list()\n",
    "# Check to see that the fragment contains a lysine\n",
    "for ii in range(len(psp_k_match)):\n",
    "    #print(ii)\n",
    "    try:\n",
    "        tmp_idx_seq = ids.index(psp_k_match['uniprot_id'][ii])\n",
    "        temp_seq = seqs[tmp_idx_seq]\n",
    "        site = temp_seq[[int(psp_k_match['ub_mod_loc'][ii])-1]]\n",
    "        if site == \"K\":\n",
    "            pass\n",
    "        else:\n",
    "            no_ref_match.append(ii)\n",
    "    except:\n",
    "        pass\n",
    "    "
   ]
  },
  {
   "cell_type": "code",
   "execution_count": 19,
   "metadata": {},
   "outputs": [
    {
     "data": {
      "text/plain": [
       "[]"
      ]
     },
     "execution_count": 19,
     "metadata": {},
     "output_type": "execute_result"
    }
   ],
   "source": [
    "no_ref_match"
   ]
  },
  {
   "cell_type": "code",
   "execution_count": 20,
   "metadata": {},
   "outputs": [],
   "source": [
    "psp_k_match.head()\n",
    "# %%\n",
    "# Write out master info\n",
    "psp_k_match.to_csv(\n",
    "     folder_path + '/data/psp_info.tsv', sep='\\t', index=False)\n",
    "\n"
   ]
  },
  {
   "cell_type": "code",
   "execution_count": 21,
   "metadata": {},
   "outputs": [
    {
     "name": "stdout",
     "output_type": "stream",
     "text": [
      "Number of unique sites: 126312\n",
      "Number of unique proteins: 19916\n",
      "Number of unique organisms: 9\n"
     ]
    }
   ],
   "source": [
    "# Quick EDA\n",
    "\n",
    "print(f\"Number of unique sites: {len(psp_k_match['ub_mod_loc'])}\")\n",
    "\n",
    "print(f\"Number of unique proteins: {len(set(psp_k_match['uniprot_id']))}\")\n",
    "\n",
    "print(f\"Number of unique organisms: {len(set(psp_k_match['organism']))}\")"
   ]
  },
  {
   "cell_type": "code",
   "execution_count": null,
   "metadata": {},
   "outputs": [],
   "source": [
    "\n",
    "print(f'mean: {mean(psp_site_count_sort.values())}')\n",
    "print(f'median: {median(psp_site_count_sort.values())}')\n",
    "print(f'mode: {mode(psp_site_count_sort.values())}')\n",
    "print(f'quantiles: {quantiles(psp_site_count_sort.values())}')"
   ]
  },
  {
   "cell_type": "markdown",
   "metadata": {},
   "source": [
    "### EDA on Ub/Lysine proportions"
   ]
  },
  {
   "cell_type": "code",
   "execution_count": 26,
   "metadata": {},
   "outputs": [
    {
     "data": {
      "text/plain": [
       "[('Q09666', 463), ('A2ASS6', 333), ('P78527', 198), ('P46013', 174)]"
      ]
     },
     "execution_count": 26,
     "metadata": {},
     "output_type": "execute_result"
    }
   ],
   "source": [
    "psp_site_count = Counter(psp_k_match['uniprot_id'])\n",
    "psp_site_count_sort = dict(sorted(psp_site_count.items(), key=lambda item: item[1], reverse=True))\n",
    "list(psp_site_count_sort.items())[:4]\n",
    "#max_y_lim = 475\n",
    "#plt.bar(psp_site_count_sort.keys(), psp_site_count_sort.values())"
   ]
  },
  {
   "cell_type": "code",
   "execution_count": 63,
   "metadata": {},
   "outputs": [
    {
     "data": {
      "text/html": [
       "<div>\n",
       "<style scoped>\n",
       "    .dataframe tbody tr th:only-of-type {\n",
       "        vertical-align: middle;\n",
       "    }\n",
       "\n",
       "    .dataframe tbody tr th {\n",
       "        vertical-align: top;\n",
       "    }\n",
       "\n",
       "    .dataframe thead th {\n",
       "        text-align: right;\n",
       "    }\n",
       "</style>\n",
       "<table border=\"1\" class=\"dataframe\">\n",
       "  <thead>\n",
       "    <tr style=\"text-align: right;\">\n",
       "      <th></th>\n",
       "      <th>protein</th>\n",
       "      <th>ub_sites</th>\n",
       "      <th>len_seq</th>\n",
       "      <th>k_count</th>\n",
       "    </tr>\n",
       "  </thead>\n",
       "  <tbody>\n",
       "    <tr>\n",
       "      <th>0</th>\n",
       "      <td>P31946</td>\n",
       "      <td>16</td>\n",
       "      <td>None</td>\n",
       "      <td>None</td>\n",
       "    </tr>\n",
       "    <tr>\n",
       "      <th>1</th>\n",
       "      <td>Q9CQV8</td>\n",
       "      <td>11</td>\n",
       "      <td>None</td>\n",
       "      <td>None</td>\n",
       "    </tr>\n",
       "    <tr>\n",
       "      <th>2</th>\n",
       "      <td>P35213</td>\n",
       "      <td>7</td>\n",
       "      <td>None</td>\n",
       "      <td>None</td>\n",
       "    </tr>\n",
       "    <tr>\n",
       "      <th>3</th>\n",
       "      <td>P62258</td>\n",
       "      <td>15</td>\n",
       "      <td>None</td>\n",
       "      <td>None</td>\n",
       "    </tr>\n",
       "    <tr>\n",
       "      <th>4</th>\n",
       "      <td>P62259</td>\n",
       "      <td>14</td>\n",
       "      <td>None</td>\n",
       "      <td>None</td>\n",
       "    </tr>\n",
       "  </tbody>\n",
       "</table>\n",
       "</div>"
      ],
      "text/plain": [
       "  protein  ub_sites len_seq k_count\n",
       "0  P31946        16    None    None\n",
       "1  Q9CQV8        11    None    None\n",
       "2  P35213         7    None    None\n",
       "3  P62258        15    None    None\n",
       "4  P62259        14    None    None"
      ]
     },
     "execution_count": 63,
     "metadata": {},
     "output_type": "execute_result"
    }
   ],
   "source": [
    "psp_norm_lys_count = pd.DataFrame(psp_site_count.items(), columns=['protein', 'ub_sites'])\n",
    "psp_norm_lys_count[[\"len_seq\", \"k_count\"]] = None\n",
    "psp_norm_lys_count.head()"
   ]
  },
  {
   "cell_type": "code",
   "execution_count": 64,
   "metadata": {},
   "outputs": [
    {
     "name": "stderr",
     "output_type": "stream",
     "text": [
      "/var/folders/cv/hy97rgx16wj00q34_wgkvv4jlf3s4z/T/ipykernel_3375/625857690.py:5: SettingWithCopyWarning: \n",
      "A value is trying to be set on a copy of a slice from a DataFrame\n",
      "\n",
      "See the caveats in the documentation: https://pandas.pydata.org/pandas-docs/stable/user_guide/indexing.html#returning-a-view-versus-a-copy\n",
      "  psp_norm_lys_count['len_seq'][ii] = len(temp_seq)\n",
      "/var/folders/cv/hy97rgx16wj00q34_wgkvv4jlf3s4z/T/ipykernel_3375/625857690.py:6: SettingWithCopyWarning: \n",
      "A value is trying to be set on a copy of a slice from a DataFrame\n",
      "\n",
      "See the caveats in the documentation: https://pandas.pydata.org/pandas-docs/stable/user_guide/indexing.html#returning-a-view-versus-a-copy\n",
      "  psp_norm_lys_count['k_count'][ii] = temp_seq.count('K')\n"
     ]
    }
   ],
   "source": [
    "for ii in range(len(psp_norm_lys_count)):\n",
    "    try:\n",
    "        tmp_idx_seq = ids.index(psp_norm_lys_count['protein'][ii])\n",
    "        temp_seq = seqs[tmp_idx_seq]\n",
    "        psp_norm_lys_count['len_seq'][ii] = len(temp_seq)\n",
    "        psp_norm_lys_count['k_count'][ii] = temp_seq.count('K')\n",
    "    except:\n",
    "        pass"
   ]
  },
  {
   "cell_type": "code",
   "execution_count": 65,
   "metadata": {},
   "outputs": [],
   "source": [
    "psp_norm_lys_count['ub_seq_prop'] = psp_norm_lys_count['ub_sites'] / psp_norm_lys_count['len_seq'] *100\n",
    "psp_norm_lys_count['ub_lys_prop'] = psp_norm_lys_count['ub_sites'] / psp_norm_lys_count['k_count'] *100\n",
    "psp_norm_lys_count['lys_seq_prop'] = psp_norm_lys_count['k_count'] / psp_norm_lys_count['len_seq'] * 100\n",
    "psp_norm_lys_count.dropna(inplace=True)"
   ]
  },
  {
   "cell_type": "code",
   "execution_count": 69,
   "metadata": {},
   "outputs": [
    {
     "data": {
      "text/html": [
       "<div>\n",
       "<style scoped>\n",
       "    .dataframe tbody tr th:only-of-type {\n",
       "        vertical-align: middle;\n",
       "    }\n",
       "\n",
       "    .dataframe tbody tr th {\n",
       "        vertical-align: top;\n",
       "    }\n",
       "\n",
       "    .dataframe thead th {\n",
       "        text-align: right;\n",
       "    }\n",
       "</style>\n",
       "<table border=\"1\" class=\"dataframe\">\n",
       "  <thead>\n",
       "    <tr style=\"text-align: right;\">\n",
       "      <th></th>\n",
       "      <th>protein</th>\n",
       "      <th>ub_sites</th>\n",
       "      <th>len_seq</th>\n",
       "      <th>k_count</th>\n",
       "      <th>ub_seq_prop</th>\n",
       "      <th>ub_lys_prop</th>\n",
       "      <th>lys_seq_prop</th>\n",
       "    </tr>\n",
       "  </thead>\n",
       "  <tbody>\n",
       "    <tr>\n",
       "      <th>7120</th>\n",
       "      <td>P16403</td>\n",
       "      <td>34</td>\n",
       "      <td>213</td>\n",
       "      <td>59</td>\n",
       "      <td>15.962441</td>\n",
       "      <td>57.627119</td>\n",
       "      <td>27.699531</td>\n",
       "    </tr>\n",
       "    <tr>\n",
       "      <th>17485</th>\n",
       "      <td>P63313</td>\n",
       "      <td>6</td>\n",
       "      <td>44</td>\n",
       "      <td>8</td>\n",
       "      <td>13.636364</td>\n",
       "      <td>75.0</td>\n",
       "      <td>18.181818</td>\n",
       "    </tr>\n",
       "    <tr>\n",
       "      <th>17487</th>\n",
       "      <td>P62328</td>\n",
       "      <td>6</td>\n",
       "      <td>44</td>\n",
       "      <td>9</td>\n",
       "      <td>13.636364</td>\n",
       "      <td>66.666667</td>\n",
       "      <td>20.454545</td>\n",
       "    </tr>\n",
       "    <tr>\n",
       "      <th>17645</th>\n",
       "      <td>P58771</td>\n",
       "      <td>36</td>\n",
       "      <td>284</td>\n",
       "      <td>39</td>\n",
       "      <td>12.676056</td>\n",
       "      <td>92.307692</td>\n",
       "      <td>13.732394</td>\n",
       "    </tr>\n",
       "    <tr>\n",
       "      <th>3434</th>\n",
       "      <td>P23528</td>\n",
       "      <td>21</td>\n",
       "      <td>166</td>\n",
       "      <td>25</td>\n",
       "      <td>12.650602</td>\n",
       "      <td>84.0</td>\n",
       "      <td>15.060241</td>\n",
       "    </tr>\n",
       "  </tbody>\n",
       "</table>\n",
       "</div>"
      ],
      "text/plain": [
       "      protein  ub_sites len_seq k_count ub_seq_prop ub_lys_prop lys_seq_prop\n",
       "7120   P16403        34     213      59   15.962441   57.627119    27.699531\n",
       "17485  P63313         6      44       8   13.636364        75.0    18.181818\n",
       "17487  P62328         6      44       9   13.636364   66.666667    20.454545\n",
       "17645  P58771        36     284      39   12.676056   92.307692    13.732394\n",
       "3434   P23528        21     166      25   12.650602        84.0    15.060241"
      ]
     },
     "execution_count": 69,
     "metadata": {},
     "output_type": "execute_result"
    }
   ],
   "source": [
    "psp_norm_lys_count.sort_values(by=['ub_seq_prop'], ascending=False).head()"
   ]
  },
  {
   "cell_type": "code",
   "execution_count": 112,
   "metadata": {},
   "outputs": [],
   "source": []
  },
  {
   "cell_type": "code",
   "execution_count": 113,
   "metadata": {},
   "outputs": [
    {
     "data": {
      "image/png": "[encoded data removed]",
      "text/plain": [
       "<Figure size 640x480 with 1 Axes>"
      ]
     },
     "metadata": {},
     "output_type": "display_data"
    },
    {
     "data": {
      "image/png": "[encoded data removed]",
      "text/plain": [
       "<Figure size 640x480 with 1 Axes>"
      ]
     },
     "metadata": {},
     "output_type": "display_data"
    },
    {
     "data": {
      "image/png": "[encoded data removed]",
      "text/plain": [
       "<Figure size 640x480 with 1 Axes>"
      ]
     },
     "metadata": {},
     "output_type": "display_data"
    }
   ],
   "source": [
    "plt.hist(psp_norm_lys_count['ub_seq_prop'])\n",
    "plt.title(\"Ub site / Seq length\")\n",
    "plt.xlabel(\"Proportion\")\n",
    "plt.ylabel(\"Count\")\n",
    "\n",
    "plt.show()\n",
    "\n",
    "plt.hist(psp_norm_lys_count['lys_seq_prop'])\n",
    "plt.title(\"Lysine / Seq length\")\n",
    "plt.xlabel(\"Proportion\")\n",
    "plt.ylabel(\"Count\")\n",
    "plt.show()\n",
    "\n",
    "plt.hist(psp_norm_lys_count['ub_lys_prop'])\n",
    "plt.title(\"Ub Site / Lysine\")\n",
    "plt.xlabel(\"Proportion\")\n",
    "plt.ylabel(\"Count\")\n",
    "plt.show()"
   ]
  },
  {
   "cell_type": "code",
   "execution_count": 114,
   "metadata": {},
   "outputs": [],
   "source": [
    "ub_seq_prop_count = Counter(psp_norm_lys_count['ub_seq_prop'])\n",
    "ub_lys_prop_count = Counter(psp_norm_lys_count['ub_lys_prop'])\n",
    "lys_seq_prop_count = Counter(psp_norm_lys_count['lys_seq_prop'])"
   ]
  },
  {
   "cell_type": "code",
   "execution_count": 109,
   "metadata": {},
   "outputs": [
    {
     "data": {
      "image/png": "[encoded data removed]",
      "text/plain": [
       "<Figure size 640x480 with 1 Axes>"
      ]
     },
     "metadata": {},
     "output_type": "display_data"
    },
    {
     "data": {
      "image/png": "[encoded data removed]",
      "text/plain": [
       "<Figure size 640x480 with 1 Axes>"
      ]
     },
     "metadata": {},
     "output_type": "display_data"
    },
    {
     "data": {
      "image/png": "[encoded data removed]",
      "text/plain": [
       "<Figure size 640x480 with 1 Axes>"
      ]
     },
     "metadata": {},
     "output_type": "display_data"
    }
   ],
   "source": [
    "\n",
    "plt.scatter([x[0] for x in lys_seq_prop_count.items()],\n",
    "            [x[1]for x in lys_seq_prop_count.items()], \n",
    "            s=3)\n",
    "plt.title(\"Lysine / Seq length\")\n",
    "plt.show()\n",
    "\n",
    "plt.scatter([x[0] for x in ub_seq_prop_count.items()],\n",
    "            [x[1] for x in ub_seq_prop_count.items()],\n",
    "            s=3)\n",
    "plt.title(\"Ub site / Seq length\")\n",
    "plt.show()\n",
    "\n",
    "plt.scatter([x[0] for x in ub_lys_prop_count.items()],\n",
    "            [x[1]for x in ub_lys_prop_count.items()],\n",
    "            s=3)\n",
    "plt.title(\"Ub site / Lysine count\")\n",
    "plt.show()"
   ]
  },
  {
   "cell_type": "code",
   "execution_count": 111,
   "metadata": {},
   "outputs": [
    {
     "data": {
      "image/png": "[encoded data removed]",
      "text/plain": [
       "<Figure size 640x480 with 1 Axes>"
      ]
     },
     "metadata": {},
     "output_type": "display_data"
    },
    {
     "data": {
      "image/png": "[encoded data removed]",
      "text/plain": [
       "<Figure size 640x480 with 1 Axes>"
      ]
     },
     "metadata": {},
     "output_type": "display_data"
    },
    {
     "data": {
      "image/png": "[encoded data removed]",
      "text/plain": [
       "<Figure size 640x480 with 1 Axes>"
      ]
     },
     "metadata": {},
     "output_type": "display_data"
    }
   ],
   "source": []
  },
  {
   "cell_type": "code",
   "execution_count": null,
   "metadata": {},
   "outputs": [],
   "source": []
  }
 ],
 "metadata": {
  "kernelspec": {
   "display_name": "py9",
   "language": "python",
   "name": "python3"
  },
  "language_info": {
   "codemirror_mode": {
    "name": "ipython",
    "version": 3
   },
   "file_extension": ".py",
   "mimetype": "text/x-python",
   "name": "python",
   "nbconvert_exporter": "python",
   "pygments_lexer": "ipython3",
   "version": "3.9.19"
  }
 },
 "nbformat": 4,
 "nbformat_minor": 2
}
