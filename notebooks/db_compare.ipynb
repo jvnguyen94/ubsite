{
 "cells": [
  {
   "cell_type": "code",
   "execution_count": 1,
   "metadata": {},
   "outputs": [],
   "source": [
    "# %% Library\n",
    "######################################################################################\n",
    "# print(\"Import Libraries & Set up directory\")\n",
    "import numpy as np\n",
    "import pandas as pd\n",
    "from Bio import SeqIO\n",
    "import re\n",
    "import os\n",
    "from collections import defaultdict\n",
    "from collections import Counter\n",
    "import matplotlib.pyplot as plt\n",
    "from statistics import mean, median, quantiles, mode\n",
    "from matplotlib_venn import venn2\n",
    "\n",
    "folder_path = \"/Users/nguyjust/Library/CloudStorage/OneDrive-OregonHealth&ScienceUniversity/ubsite/\""
   ]
  },
  {
   "cell_type": "code",
   "execution_count": 2,
   "metadata": {},
   "outputs": [],
   "source": [
    "# Read in the iptm data\n",
    "data_iptm = pd.read_csv(folder_path + '/data/iptm_info.tsv',\n",
    "                        sep=\"\\t\", low_memory=False)\n",
    "\n",
    "data_iptm.head()\n",
    "\n",
    "data_iptm_sm = data_iptm[['uniprot_id', 'ub_mod_loc']]"
   ]
  },
  {
   "cell_type": "code",
   "execution_count": 3,
   "metadata": {},
   "outputs": [],
   "source": [
    "# Read in the psp data\n",
    "data_psp = pd.read_csv(folder_path + '/data/psp_info.tsv',\n",
    "                       sep=\"\\t\", low_memory=False)\n",
    "\n",
    "data_psp.drop(columns={'index', 'sequence'}, inplace=True)\n",
    "\n",
    "data_psp.head()\n",
    "\n",
    "data_psp_sm = data_psp[['uniprot_id', 'ub_mod_loc']]"
   ]
  },
  {
   "cell_type": "code",
   "execution_count": 28,
   "metadata": {},
   "outputs": [
    {
     "name": "stdout",
     "output_type": "stream",
     "text": [
      "PSP data\n",
      "Number of unique sites: 126312\n",
      "Number of unique proteins: 19916\n",
      "Number of unique organisms: 9\n",
      "\n",
      "\n",
      "iPTM data\n",
      "Number of unique sites: 138781\n",
      "Number of unique proteins: 23588\n",
      "Number of unique organisms: 40\n"
     ]
    }
   ],
   "source": [
    "# Quick EDA \n",
    "print(\"PSP data\")\n",
    "\n",
    "print(f\"Number of unique sites: {len(data_psp['ub_mod_loc'])}\")\n",
    "\n",
    "print(f\"Number of unique proteins: {len(set(data_psp['uniprot_id']))}\")\n",
    "\n",
    "print(f\"Number of unique organisms: {len(set(data_psp['organism']))}\")\n",
    "\n",
    "\n",
    "print(\"\\n\\niPTM data\")\n",
    "\n",
    "print(f\"Number of unique sites: {len(data_iptm['ub_mod_loc'])}\")\n",
    "\n",
    "print(f\"Number of unique proteins: {len(set(data_iptm['uniprot_id']))}\")\n",
    "\n",
    "print(f\"Number of unique organisms: {len(set(data_iptm['organism']))}\")"
   ]
  },
  {
   "cell_type": "code",
   "execution_count": 22,
   "metadata": {},
   "outputs": [],
   "source": [
    "data_psp_1 = data_psp['uniprot_id'].astype(\n",
    "    str) + '-' + data_psp['ub_mod_loc'].astype(str)\n",
    "data_psp_1_set = set(data_psp_1)\n",
    "\n",
    "data_iptm_1 = data_iptm['uniprot_id'].astype(\n",
    "    str) + '-' + data_iptm['ub_mod_loc'].astype(str)\n",
    "data_iptm_1_set = set(data_iptm_1)"
   ]
  },
  {
   "cell_type": "code",
   "execution_count": 23,
   "metadata": {},
   "outputs": [
    {
     "data": {
      "image/png": "[encoded data removed]",
      "text/plain": [
       "<Figure size 640x480 with 1 Axes>"
      ]
     },
     "metadata": {},
     "output_type": "display_data"
    }
   ],
   "source": [
    "venn2([data_psp_1_set, data_iptm_1_set], set_labels=('PSP', 'iPTM'))\n",
    "plt.show()"
   ]
  },
  {
   "cell_type": "code",
   "execution_count": 27,
   "metadata": {},
   "outputs": [
    {
     "name": "stdout",
     "output_type": "stream",
     "text": [
      "Union: 138828\n",
      "Intersection: 125184\n",
      "PSP unique: 1121\n",
      "iPTM unique: 12523\n"
     ]
    }
   ],
   "source": [
    "## total union across all sets\n",
    "union = data_psp_1_set|data_iptm_1_set\n",
    "print(f'Union: {len(union)}')\n",
    "\n",
    "## intersection in both sets\n",
    "intersection = data_psp_1_set & data_iptm_1_set\n",
    "print(f'Intersection: {len(intersection)}')\n",
    "\n",
    "## psp unique\n",
    "psp_unq = data_psp_1_set.difference(data_iptm_1_set)\n",
    "print(f'PSP unique: {len(psp_unq)}')\n",
    "\n",
    "## iptm unique\n",
    "iptm_unq = data_iptm_1_set.difference(data_psp_1_set)\n",
    "print(f'iPTM unique: {len(iptm_unq)}')"
   ]
  },
  {
   "cell_type": "code",
   "execution_count": 50,
   "metadata": {},
   "outputs": [
    {
     "name": "stdout",
     "output_type": "stream",
     "text": [
      "138828\n",
      "23159\n",
      "Unique proteins: 23159\n"
     ]
    }
   ],
   "source": [
    "union_split = [ii.split('-') for ii in list(union)]\n",
    "print(len(union_split))\n",
    "\n",
    "keys = [ii[0] for ii in union_split]\n",
    "values = [ii[1] for ii  in union_split]\n",
    "\n",
    "ub_dict = dict(zip(keys,values))\n",
    "print(len(ub_dict))\n",
    "\n",
    "print(f'Unique proteins: {len(set(keys))}')\n",
    "\n"
   ]
  },
  {
   "cell_type": "code",
   "execution_count": 51,
   "metadata": {},
   "outputs": [
    {
     "data": {
      "text/plain": [
       "23159"
      ]
     },
     "execution_count": 51,
     "metadata": {},
     "output_type": "execute_result"
    }
   ],
   "source": [
    "protein_site_counter = Counter(keys)\n",
    "len(protein_site_counter)"
   ]
  },
  {
   "cell_type": "code",
   "execution_count": 63,
   "metadata": {},
   "outputs": [
    {
     "data": {
      "text/plain": [
       "Counter({1: 6747,\n",
       "         2: 3537,\n",
       "         3: 2367,\n",
       "         4: 1644,\n",
       "         5: 1318,\n",
       "         6: 1062,\n",
       "         7: 881,\n",
       "         8: 743,\n",
       "         9: 616,\n",
       "         10: 555,\n",
       "         11: 446,\n",
       "         12: 378,\n",
       "         13: 322,\n",
       "         14: 293,\n",
       "         15: 247,\n",
       "         16: 222,\n",
       "         17: 205,\n",
       "         18: 166,\n",
       "         19: 141,\n",
       "         20: 132,\n",
       "         21: 96,\n",
       "         22: 94,\n",
       "         23: 76,\n",
       "         24: 97,\n",
       "         25: 75,\n",
       "         26: 60,\n",
       "         27: 53,\n",
       "         28: 49,\n",
       "         29: 41,\n",
       "         30: 36,\n",
       "         31: 41,\n",
       "         32: 43,\n",
       "         33: 40,\n",
       "         34: 30,\n",
       "         35: 21,\n",
       "         36: 23,\n",
       "         37: 29,\n",
       "         38: 13,\n",
       "         39: 13,\n",
       "         40: 16,\n",
       "         41: 13,\n",
       "         42: 16,\n",
       "         43: 13,\n",
       "         44: 9,\n",
       "         45: 8,\n",
       "         46: 5,\n",
       "         47: 10,\n",
       "         48: 5,\n",
       "         49: 1,\n",
       "         50: 3,\n",
       "         51: 8,\n",
       "         52: 7,\n",
       "         53: 2,\n",
       "         54: 5,\n",
       "         55: 2,\n",
       "         56: 2,\n",
       "         57: 2,\n",
       "         58: 3,\n",
       "         59: 1,\n",
       "         60: 4,\n",
       "         61: 1,\n",
       "         62: 5,\n",
       "         63: 3,\n",
       "         64: 2,\n",
       "         65: 6,\n",
       "         66: 3,\n",
       "         69: 2,\n",
       "         70: 1,\n",
       "         72: 2,\n",
       "         74: 2,\n",
       "         75: 1,\n",
       "         77: 4,\n",
       "         78: 2,\n",
       "         79: 1,\n",
       "         80: 1,\n",
       "         84: 6,\n",
       "         85: 1,\n",
       "         86: 2,\n",
       "         88: 3,\n",
       "         89: 2,\n",
       "         90: 1,\n",
       "         91: 2,\n",
       "         92: 1,\n",
       "         94: 2,\n",
       "         107: 1,\n",
       "         108: 2,\n",
       "         112: 1,\n",
       "         114: 2,\n",
       "         117: 1,\n",
       "         123: 1,\n",
       "         128: 1,\n",
       "         130: 1,\n",
       "         135: 1,\n",
       "         143: 1,\n",
       "         175: 1,\n",
       "         198: 1,\n",
       "         333: 1,\n",
       "         463: 1})"
      ]
     },
     "execution_count": 63,
     "metadata": {},
     "output_type": "execute_result"
    }
   ],
   "source": [
    "sites_per_unique_prot = list(protein_site_counter.values())\n",
    "prot_count_sites = Counter(sorted(sites_per_unique_prot))\n",
    "prot_count_sites"
   ]
  },
  {
   "cell_type": "code",
   "execution_count": 68,
   "metadata": {},
   "outputs": [
    {
     "data": {
      "image/png": "[encoded data removed]",
      "text/plain": [
       "<Figure size 640x480 with 1 Axes>"
      ]
     },
     "metadata": {},
     "output_type": "display_data"
    }
   ],
   "source": [
    "plt.xlabel('# of Ub sites on protein')\n",
    "plt.ylabel('count protein')\n",
    "plt.bar(prot_count_sites.keys(), prot_count_sites.values())\n",
    "plt.show()"
   ]
  },
  {
   "cell_type": "code",
   "execution_count": 69,
   "metadata": {},
   "outputs": [
    {
     "data": {
      "image/png": "[encoded data removed]",
      "text/plain": [
       "<Figure size 640x480 with 1 Axes>"
      ]
     },
     "metadata": {},
     "output_type": "display_data"
    }
   ],
   "source": [
    "plt.xlabel('# of Ub sites on protein')\n",
    "plt.ylabel('count protein')\n",
    "plt.xlim(0,40)\n",
    "plt.bar(prot_count_sites.keys(), prot_count_sites.values())\n",
    "plt.show()"
   ]
  },
  {
   "cell_type": "code",
   "execution_count": null,
   "metadata": {},
   "outputs": [],
   "source": []
  }
 ],
 "metadata": {
  "kernelspec": {
   "display_name": "py9",
   "language": "python",
   "name": "python3"
  },
  "language_info": {
   "codemirror_mode": {
    "name": "ipython",
    "version": 3
   },
   "file_extension": ".py",
   "mimetype": "text/x-python",
   "name": "python",
   "nbconvert_exporter": "python",
   "pygments_lexer": "ipython3",
   "version": "3.9.19"
  }
 },
 "nbformat": 4,
 "nbformat_minor": 2
}
