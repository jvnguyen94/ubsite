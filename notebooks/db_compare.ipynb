{
 "cells": [
  {
   "cell_type": "code",
   "execution_count": 1,
   "metadata": {},
   "outputs": [],
   "source": [
    "# %% Library\n",
    "######################################################################################\n",
    "# print(\"Import Libraries & Set up directory\")\n",
    "import numpy as np\n",
    "import pandas as pd\n",
    "from Bio import SeqIO\n",
    "import re\n",
    "import os\n",
    "from collections import defaultdict\n",
    "from collections import Counter\n",
    "import matplotlib.pyplot as plt\n",
    "from statistics import mean, median, quantiles, mode\n",
    "from matplotlib_venn import venn2\n",
    "\n",
    "folder_path = \"/Users/nguyjust/Library/CloudStorage/OneDrive-OregonHealth&ScienceUniversity/ubsite/\""
   ]
  },
  {
   "cell_type": "code",
   "execution_count": 2,
   "metadata": {},
   "outputs": [],
   "source": [
    "# Read in the iptm data\n",
    "data_iptm = pd.read_csv(folder_path + '/data/iptm_info.tsv',\n",
    "                        sep=\"\\t\", low_memory=False)\n",
    "\n",
    "data_iptm.head()\n",
    "\n",
    "data_iptm_sm = data_iptm[['uniprot_id', 'ub_mod_loc']]"
   ]
  },
  {
   "cell_type": "code",
   "execution_count": 3,
   "metadata": {},
   "outputs": [],
   "source": [
    "# Read in the psp data\n",
    "data_psp = pd.read_csv(folder_path + '/data/psp_info.tsv',\n",
    "                       sep=\"\\t\", low_memory=False)\n",
    "\n",
    "data_psp.drop(columns={'index', 'sequence'}, inplace=True)\n",
    "\n",
    "data_psp.head()\n",
    "\n",
    "data_psp_sm = data_psp[['uniprot_id', 'ub_mod_loc']]"
   ]
  },
  {
   "cell_type": "code",
   "execution_count": 4,
   "metadata": {},
   "outputs": [
    {
     "name": "stdout",
     "output_type": "stream",
     "text": [
      "PSP\n",
      "Number of unique sites: 126312\n",
      "Number of unique proteins: 19916\n",
      "Number of unique organisms: 9\n",
      "\n",
      "\n",
      "iPTM\n",
      "Number of unique sites: 138781\n",
      "Number of unique proteins: 23588\n",
      "Number of unique organisms: 40\n"
     ]
    }
   ],
   "source": [
    "# Quick EDA PSP\n",
    "print(\"PSP\")\n",
    "\n",
    "print(f\"Number of unique sites: {len(data_psp['ub_mod_loc'])}\")\n",
    "\n",
    "print(f\"Number of unique proteins: {len(set(data_psp['uniprot_id']))}\")\n",
    "\n",
    "print(f\"Number of unique organisms: {len(set(data_psp['organism']))}\")\n",
    "\n",
    "\n",
    "print(\"\\n\\niPTM\")\n",
    "\n",
    "print(f\"Number of unique sites: {len(data_iptm['ub_mod_loc'])}\")\n",
    "\n",
    "print(f\"Number of unique proteins: {len(set(data_iptm['uniprot_id']))}\")\n",
    "\n",
    "print(f\"Number of unique organisms: {len(set(data_iptm['organism']))}\")"
   ]
  },
  {
   "cell_type": "code",
   "execution_count": 5,
   "metadata": {},
   "outputs": [
    {
     "name": "stdout",
     "output_type": "stream",
     "text": [
      "Combined sites across both databases: 265093\n",
      "Duplicated sites across both databases: 126265\n",
      "Unique sites across both databases: 125760\n"
     ]
    }
   ],
   "source": [
    "## Determining common sites across two datasets\n",
    "\n",
    "df_combine = pd.concat([data_iptm_sm, data_psp_sm])\n",
    "df_duplicates = df_combine[df_combine.duplicated()]\n",
    "print(f'Combined sites across both databases: {len(df_combine)}')\n",
    "print(f'Duplicated sites across both databases: {len(df_duplicates)}')\n",
    "\n",
    "df_unique = df_duplicates.drop_duplicates(ignore_index=True)\n",
    "print(f'Unique sites across both databases: {len(df_unique)}')"
   ]
  },
  {
   "cell_type": "code",
   "execution_count": 6,
   "metadata": {},
   "outputs": [
    {
     "name": "stdout",
     "output_type": "stream",
     "text": [
      "0    P01023-841\n",
      "1    A0ZWU1-111\n",
      "2     A0ZWU1-19\n",
      "3      A0ZWU1-6\n",
      "4    A9ZLL8-137\n",
      "dtype: object\n",
      "138781\n",
      "137707\n",
      "0     P31946-5\n",
      "1    P31946-11\n",
      "2    Q9CQV8-11\n",
      "3    P35213-11\n",
      "4    P31946-13\n",
      "dtype: object\n",
      "126312\n",
      "126305\n"
     ]
    }
   ],
   "source": [
    "## Look at df as sets for uniqueness\n",
    "\n",
    "## Combine uniprot + location for iptm\n",
    "data_iptm_1 = data_iptm_sm['uniprot_id'].astype(str) + '-'+ data_iptm_sm['ub_mod_loc'].astype(str)\n",
    "print(data_iptm_1.head())\n",
    "print(len(data_iptm_1))\n",
    "## Create set iptm\n",
    "data_iptm_1 = set(data_iptm_1)\n",
    "print(len(data_iptm_1))\n",
    "\n",
    "# Combine uniprot + location for PSP\n",
    "data_psp_1 = data_psp_sm['uniprot_id'].astype(str) + '-' + data_psp_sm['ub_mod_loc'].astype(str)\n",
    "print(data_psp_1.head())\n",
    "print(len(data_psp_1))\n",
    "## Create set PSP\n",
    "data_psp_1 = set(data_psp_1)\n",
    "print(len(data_psp_1))"
   ]
  },
  {
   "cell_type": "code",
   "execution_count": 9,
   "metadata": {},
   "outputs": [
    {
     "data": {
      "image/png": "[encoded data removed]",
      "text/plain": [
       "<Figure size 640x480 with 1 Axes>"
      ]
     },
     "metadata": {},
     "output_type": "display_data"
    }
   ],
   "source": [
    "venn2([data_psp_1, data_iptm_1], set_labels=('PSP', 'iPTM'))\n",
    "plt.show()"
   ]
  },
  {
   "cell_type": "code",
   "execution_count": null,
   "metadata": {},
   "outputs": [],
   "source": []
  }
 ],
 "metadata": {
  "kernelspec": {
   "display_name": "py9",
   "language": "python",
   "name": "python3"
  },
  "language_info": {
   "codemirror_mode": {
    "name": "ipython",
    "version": 3
   },
   "file_extension": ".py",
   "mimetype": "text/x-python",
   "name": "python",
   "nbconvert_exporter": "python",
   "pygments_lexer": "ipython3",
   "version": "3.9.19"
  }
 },
 "nbformat": 4,
 "nbformat_minor": 2
}
